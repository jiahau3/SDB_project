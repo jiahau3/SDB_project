{
  "nbformat": 4,
  "nbformat_minor": 0,
  "metadata": {
    "colab": {
      "name": "erie_data_collecting_by_ODC.ipynb",
      "provenance": [],
      "collapsed_sections": []
    },
    "kernelspec": {
      "name": "python3",
      "display_name": "Python 3"
    },
    "language_info": {
      "name": "python"
    }
  },
  "cells": [
    {
      "cell_type": "markdown",
      "source": [
        "The next code block provides Colab with access to your Google Drive to store content and results. It will ask you to click on an authentication link, and then paste an authentication code back into the notebook cell."
      ],
      "metadata": {
        "id": "jbiDJqRj90x_"
      }
    },
    {
      "cell_type": "code",
      "source": [
        "from google.colab import drive\n",
        "drive.mount('/content/drive') "
      ],
      "metadata": {
        "id": "a_qzzYuubA8K",
        "colab": {
          "base_uri": "https://localhost:8080/"
        },
        "outputId": "38796c71-09c3-4df6-f322-6549626bdf3e"
      },
      "execution_count": 1,
      "outputs": [
        {
          "output_type": "stream",
          "name": "stdout",
          "text": [
            "Drive already mounted at /content/drive; to attempt to forcibly remount, call drive.mount(\"/content/drive\", force_remount=True).\n"
          ]
        }
      ]
    },
    {
      "cell_type": "markdown",
      "source": [
        "Downloads the odc-colab Python module and runs it to setup ODC."
      ],
      "metadata": {
        "id": "X7bLRvOz-0sc"
      }
    },
    {
      "cell_type": "code",
      "source": [
        "!wget -nc https://raw.githubusercontent.com/ceos-seo/odc-colab/master/odc_colab.py\n",
        "from odc_colab import odc_colab_init\n",
        "odc_colab_init(install_odc_gee=True)"
      ],
      "metadata": {
        "colab": {
          "base_uri": "https://localhost:8080/"
        },
        "id": "6kLVF3wB9zT9",
        "outputId": "d242dd77-8bf1-44c4-c52c-425371e9ace7"
      },
      "execution_count": 2,
      "outputs": [
        {
          "output_type": "stream",
          "name": "stdout",
          "text": [
            "File ‘odc_colab.py’ already there; not retrieving.\n",
            "\n"
          ]
        }
      ]
    },
    {
      "cell_type": "markdown",
      "source": [
        "Downloads an existing index and populates the new ODC environment with it."
      ],
      "metadata": {
        "id": "0G-9WtTe-_t7"
      }
    },
    {
      "cell_type": "code",
      "source": [
        "from odc_colab import populate_db\n",
        "populate_db()"
      ],
      "metadata": {
        "colab": {
          "base_uri": "https://localhost:8080/"
        },
        "id": "uM7LcRjD-OJA",
        "outputId": "4fd53700-3cfb-4cbf-eee6-059daa90d06d"
      },
      "execution_count": 1,
      "outputs": [
        {
          "output_type": "stream",
          "name": "stdout",
          "text": [
            "No database file supplied. Downloading default index.\n",
            "Lockfile exists, skipping population.\n"
          ]
        }
      ]
    },
    {
      "cell_type": "markdown",
      "source": [
        "Importing the datacube of earth engine"
      ],
      "metadata": {
        "id": "1JWoeWF2DAWj"
      }
    },
    {
      "cell_type": "code",
      "source": [
        "# Suppress Warning Messages\n",
        "import warnings\n",
        "warnings.filterwarnings('ignore')\n",
        "\n",
        "# Load Data Cube Configuration\n",
        "from odc_gee import earthengine\n",
        "dc = earthengine.Datacube(app='Loading_data')"
      ],
      "metadata": {
        "colab": {
          "base_uri": "https://localhost:8080/"
        },
        "id": "YTyPB9iH-jPN",
        "outputId": "ffa86012-6315-4305-db2a-945e1d545bcf"
      },
      "execution_count": 2,
      "outputs": [
        {
          "output_type": "stream",
          "name": "stderr",
          "text": [
            "/usr/local/lib/python3.7/dist-packages/datacube/drivers/postgres/_connections.py:84: SADeprecationWarning: Calling URL() directly is deprecated and will be disabled in a future release.  The public constructor for URL is now the URL.create() method.\n",
            "  username=username, password=password,\n"
          ]
        }
      ]
    },
    {
      "cell_type": "markdown",
      "source": [
        "Listing all the avaliable data contained in datacube"
      ],
      "metadata": {
        "id": "HaBoOcJIDdev"
      }
    },
    {
      "cell_type": "code",
      "source": [
        "products = dc.list_products()\n",
        "products.sort_index()"
      ],
      "metadata": {
        "colab": {
          "base_uri": "https://localhost:8080/",
          "height": 511
        },
        "id": "Gny5uDhjA7t4",
        "outputId": "cd34d3b6-f9c0-47e5-ecb9-65b0286be3e1"
      },
      "execution_count": 3,
      "outputs": [
        {
          "output_type": "execute_result",
          "data": {
            "text/html": [
              "<div>\n",
              "<style scoped>\n",
              "    .dataframe tbody tr th:only-of-type {\n",
              "        vertical-align: middle;\n",
              "    }\n",
              "\n",
              "    .dataframe tbody tr th {\n",
              "        vertical-align: top;\n",
              "    }\n",
              "\n",
              "    .dataframe thead th {\n",
              "        text-align: right;\n",
              "    }\n",
              "</style>\n",
              "<table border=\"1\" class=\"dataframe\">\n",
              "  <thead>\n",
              "    <tr style=\"text-align: right;\">\n",
              "      <th></th>\n",
              "      <th>name</th>\n",
              "      <th>description</th>\n",
              "      <th>label</th>\n",
              "      <th>time</th>\n",
              "      <th>platform</th>\n",
              "      <th>lon</th>\n",
              "      <th>format</th>\n",
              "      <th>dataset_maturity</th>\n",
              "      <th>product_family</th>\n",
              "      <th>lat</th>\n",
              "      <th>region_code</th>\n",
              "      <th>creation_time</th>\n",
              "      <th>instrument</th>\n",
              "      <th>crs</th>\n",
              "      <th>resolution</th>\n",
              "      <th>tile_size</th>\n",
              "      <th>spatial_dimensions</th>\n",
              "    </tr>\n",
              "    <tr>\n",
              "      <th>id</th>\n",
              "      <th></th>\n",
              "      <th></th>\n",
              "      <th></th>\n",
              "      <th></th>\n",
              "      <th></th>\n",
              "      <th></th>\n",
              "      <th></th>\n",
              "      <th></th>\n",
              "      <th></th>\n",
              "      <th></th>\n",
              "      <th></th>\n",
              "      <th></th>\n",
              "      <th></th>\n",
              "      <th></th>\n",
              "      <th></th>\n",
              "      <th></th>\n",
              "      <th></th>\n",
              "    </tr>\n",
              "  </thead>\n",
              "  <tbody>\n",
              "    <tr>\n",
              "      <th>1</th>\n",
              "      <td>ls8_google</td>\n",
              "      <td>&lt;p&gt;This dataset is the atmospherically correct...</td>\n",
              "      <td>None</td>\n",
              "      <td>None</td>\n",
              "      <td>LANDSAT_8</td>\n",
              "      <td>None</td>\n",
              "      <td>None</td>\n",
              "      <td>None</td>\n",
              "      <td>None</td>\n",
              "      <td>None</td>\n",
              "      <td>None</td>\n",
              "      <td>None</td>\n",
              "      <td>OLI/TIRS</td>\n",
              "      <td>EPSG:4326</td>\n",
              "      <td>(-0.000269493352, 0.000269493352)</td>\n",
              "      <td>None</td>\n",
              "      <td>(latitude, longitude)</td>\n",
              "    </tr>\n",
              "    <tr>\n",
              "      <th>2</th>\n",
              "      <td>s1_google</td>\n",
              "      <td>&lt;p&gt;The Sentinel-1 mission provides data from a...</td>\n",
              "      <td>None</td>\n",
              "      <td>None</td>\n",
              "      <td>Sentinel-1A</td>\n",
              "      <td>None</td>\n",
              "      <td>None</td>\n",
              "      <td>None</td>\n",
              "      <td>None</td>\n",
              "      <td>None</td>\n",
              "      <td>None</td>\n",
              "      <td>None</td>\n",
              "      <td>C-SAR</td>\n",
              "      <td>EPSG:4326</td>\n",
              "      <td>(-8.98311175e-05, 8.98311175e-05)</td>\n",
              "      <td>None</td>\n",
              "      <td>(latitude, longitude)</td>\n",
              "    </tr>\n",
              "    <tr>\n",
              "      <th>3</th>\n",
              "      <td>s2_google</td>\n",
              "      <td>&lt;p&gt;Sentinel-2 is a wide-swath, high-resolution...</td>\n",
              "      <td>None</td>\n",
              "      <td>None</td>\n",
              "      <td>Sentinel-2A</td>\n",
              "      <td>None</td>\n",
              "      <td>None</td>\n",
              "      <td>None</td>\n",
              "      <td>None</td>\n",
              "      <td>None</td>\n",
              "      <td>None</td>\n",
              "      <td>None</td>\n",
              "      <td>MSI</td>\n",
              "      <td>EPSG:4326</td>\n",
              "      <td>(-8.98311175e-05, 8.98311175e-05)</td>\n",
              "      <td>None</td>\n",
              "      <td>(latitude, longitude)</td>\n",
              "    </tr>\n",
              "    <tr>\n",
              "      <th>4</th>\n",
              "      <td>ls7_google</td>\n",
              "      <td>&lt;p&gt;This dataset is the atmospherically\\ncorrec...</td>\n",
              "      <td>None</td>\n",
              "      <td>None</td>\n",
              "      <td>LANDSAT_7</td>\n",
              "      <td>None</td>\n",
              "      <td>None</td>\n",
              "      <td>None</td>\n",
              "      <td>None</td>\n",
              "      <td>None</td>\n",
              "      <td>None</td>\n",
              "      <td>None</td>\n",
              "      <td>ETM</td>\n",
              "      <td>EPSG:4326</td>\n",
              "      <td>(-0.000269493352, 0.000269493352)</td>\n",
              "      <td>None</td>\n",
              "      <td>(latitude, longitude)</td>\n",
              "    </tr>\n",
              "    <tr>\n",
              "      <th>5</th>\n",
              "      <td>viirs_google</td>\n",
              "      <td>&lt;p&gt;Monthly average radiance composite images u...</td>\n",
              "      <td>None</td>\n",
              "      <td>None</td>\n",
              "      <td>VIIRS</td>\n",
              "      <td>None</td>\n",
              "      <td>None</td>\n",
              "      <td>None</td>\n",
              "      <td>None</td>\n",
              "      <td>None</td>\n",
              "      <td>None</td>\n",
              "      <td>None</td>\n",
              "      <td>DNB</td>\n",
              "      <td>EPSG:4326</td>\n",
              "      <td>(-0.00416666667, 0.00416666667)</td>\n",
              "      <td>None</td>\n",
              "      <td>(latitude, longitude)</td>\n",
              "    </tr>\n",
              "    <tr>\n",
              "      <th>6</th>\n",
              "      <td>palsar_google</td>\n",
              "      <td>&lt;p&gt;The global 25m PALSAR/PALSAR-2 mosaic is a ...</td>\n",
              "      <td>None</td>\n",
              "      <td>None</td>\n",
              "      <td>ALOS</td>\n",
              "      <td>None</td>\n",
              "      <td>None</td>\n",
              "      <td>None</td>\n",
              "      <td>None</td>\n",
              "      <td>None</td>\n",
              "      <td>None</td>\n",
              "      <td>None</td>\n",
              "      <td>SAR</td>\n",
              "      <td>EPSG:4326</td>\n",
              "      <td>(-0.000224577794, 0.000224577794)</td>\n",
              "      <td>None</td>\n",
              "      <td>(latitude, longitude)</td>\n",
              "    </tr>\n",
              "    <tr>\n",
              "      <th>7</th>\n",
              "      <td>proba_google</td>\n",
              "      <td>&lt;p&gt;The Copernicus Global Land Service (CGLS) i...</td>\n",
              "      <td>None</td>\n",
              "      <td>None</td>\n",
              "      <td>PROBA-V</td>\n",
              "      <td>None</td>\n",
              "      <td>None</td>\n",
              "      <td>None</td>\n",
              "      <td>None</td>\n",
              "      <td>None</td>\n",
              "      <td>None</td>\n",
              "      <td>None</td>\n",
              "      <td>CGLS-LC</td>\n",
              "      <td>EPSG:4326</td>\n",
              "      <td>(-0.000898311175, 0.000898311175)</td>\n",
              "      <td>None</td>\n",
              "      <td>(latitude, longitude)</td>\n",
              "    </tr>\n",
              "  </tbody>\n",
              "</table>\n",
              "</div>"
            ],
            "text/plain": [
              "             name  ...     spatial_dimensions\n",
              "id                 ...                       \n",
              "1      ls8_google  ...  (latitude, longitude)\n",
              "2       s1_google  ...  (latitude, longitude)\n",
              "3       s2_google  ...  (latitude, longitude)\n",
              "4      ls7_google  ...  (latitude, longitude)\n",
              "5    viirs_google  ...  (latitude, longitude)\n",
              "6   palsar_google  ...  (latitude, longitude)\n",
              "7    proba_google  ...  (latitude, longitude)\n",
              "\n",
              "[7 rows x 17 columns]"
            ]
          },
          "metadata": {},
          "execution_count": 3
        }
      ]
    },
    {
      "cell_type": "markdown",
      "source": [
        "Collecting Sentinel 2 data "
      ],
      "metadata": {
        "id": "gHa_a40GEI0p"
      }
    },
    {
      "cell_type": "code",
      "source": [
        "product = \"s2_google\"\n",
        "\n",
        "measurements = dc.list_measurements()\n",
        "measurements.loc[product]"
      ],
      "metadata": {
        "colab": {
          "base_uri": "https://localhost:8080/",
          "height": 676
        },
        "id": "YbaQm2eNCn5V",
        "outputId": "e6c04be6-2730-4926-ac3c-962abdc91150"
      },
      "execution_count": 4,
      "outputs": [
        {
          "output_type": "execute_result",
          "data": {
            "text/html": [
              "<div>\n",
              "<style scoped>\n",
              "    .dataframe tbody tr th:only-of-type {\n",
              "        vertical-align: middle;\n",
              "    }\n",
              "\n",
              "    .dataframe tbody tr th {\n",
              "        vertical-align: top;\n",
              "    }\n",
              "\n",
              "    .dataframe thead th {\n",
              "        text-align: right;\n",
              "    }\n",
              "</style>\n",
              "<table border=\"1\" class=\"dataframe\">\n",
              "  <thead>\n",
              "    <tr style=\"text-align: right;\">\n",
              "      <th></th>\n",
              "      <th>name</th>\n",
              "      <th>dtype</th>\n",
              "      <th>units</th>\n",
              "      <th>nodata</th>\n",
              "      <th>aliases</th>\n",
              "      <th>flags_definition</th>\n",
              "    </tr>\n",
              "    <tr>\n",
              "      <th>measurement</th>\n",
              "      <th></th>\n",
              "      <th></th>\n",
              "      <th></th>\n",
              "      <th></th>\n",
              "      <th></th>\n",
              "      <th></th>\n",
              "    </tr>\n",
              "  </thead>\n",
              "  <tbody>\n",
              "    <tr>\n",
              "      <th>B1</th>\n",
              "      <td>B1</td>\n",
              "      <td>int16</td>\n",
              "      <td></td>\n",
              "      <td>-9999.0</td>\n",
              "      <td>[aerosols, b1]</td>\n",
              "      <td>NaN</td>\n",
              "    </tr>\n",
              "    <tr>\n",
              "      <th>B2</th>\n",
              "      <td>B2</td>\n",
              "      <td>int16</td>\n",
              "      <td></td>\n",
              "      <td>-9999.0</td>\n",
              "      <td>[blue, b2]</td>\n",
              "      <td>NaN</td>\n",
              "    </tr>\n",
              "    <tr>\n",
              "      <th>B3</th>\n",
              "      <td>B3</td>\n",
              "      <td>int16</td>\n",
              "      <td></td>\n",
              "      <td>-9999.0</td>\n",
              "      <td>[green, b3]</td>\n",
              "      <td>NaN</td>\n",
              "    </tr>\n",
              "    <tr>\n",
              "      <th>B4</th>\n",
              "      <td>B4</td>\n",
              "      <td>int16</td>\n",
              "      <td></td>\n",
              "      <td>-9999.0</td>\n",
              "      <td>[red, b4]</td>\n",
              "      <td>NaN</td>\n",
              "    </tr>\n",
              "    <tr>\n",
              "      <th>B5</th>\n",
              "      <td>B5</td>\n",
              "      <td>int16</td>\n",
              "      <td></td>\n",
              "      <td>-9999.0</td>\n",
              "      <td>[red_edge1, red_edge_1, b5]</td>\n",
              "      <td>NaN</td>\n",
              "    </tr>\n",
              "    <tr>\n",
              "      <th>B6</th>\n",
              "      <td>B6</td>\n",
              "      <td>int16</td>\n",
              "      <td></td>\n",
              "      <td>-9999.0</td>\n",
              "      <td>[red_edge2, red_edge_2, b6]</td>\n",
              "      <td>NaN</td>\n",
              "    </tr>\n",
              "    <tr>\n",
              "      <th>B7</th>\n",
              "      <td>B7</td>\n",
              "      <td>int16</td>\n",
              "      <td></td>\n",
              "      <td>-9999.0</td>\n",
              "      <td>[red_edge3, red_edge_3, b7]</td>\n",
              "      <td>NaN</td>\n",
              "    </tr>\n",
              "    <tr>\n",
              "      <th>B8</th>\n",
              "      <td>B8</td>\n",
              "      <td>int16</td>\n",
              "      <td></td>\n",
              "      <td>-9999.0</td>\n",
              "      <td>[nir, b8]</td>\n",
              "      <td>NaN</td>\n",
              "    </tr>\n",
              "    <tr>\n",
              "      <th>B8A</th>\n",
              "      <td>B8A</td>\n",
              "      <td>int16</td>\n",
              "      <td></td>\n",
              "      <td>-9999.0</td>\n",
              "      <td>[red_edge4, red_edge_4, b8a]</td>\n",
              "      <td>NaN</td>\n",
              "    </tr>\n",
              "    <tr>\n",
              "      <th>B9</th>\n",
              "      <td>B9</td>\n",
              "      <td>int16</td>\n",
              "      <td></td>\n",
              "      <td>-9999.0</td>\n",
              "      <td>[water_vapor, b9]</td>\n",
              "      <td>NaN</td>\n",
              "    </tr>\n",
              "    <tr>\n",
              "      <th>B11</th>\n",
              "      <td>B11</td>\n",
              "      <td>int16</td>\n",
              "      <td></td>\n",
              "      <td>-9999.0</td>\n",
              "      <td>[swir1, swir_1, b11]</td>\n",
              "      <td>NaN</td>\n",
              "    </tr>\n",
              "    <tr>\n",
              "      <th>B12</th>\n",
              "      <td>B12</td>\n",
              "      <td>int16</td>\n",
              "      <td></td>\n",
              "      <td>-9999.0</td>\n",
              "      <td>[swir2, swir_2, b12]</td>\n",
              "      <td>NaN</td>\n",
              "    </tr>\n",
              "    <tr>\n",
              "      <th>AOT</th>\n",
              "      <td>AOT</td>\n",
              "      <td>int16</td>\n",
              "      <td></td>\n",
              "      <td>-9999.0</td>\n",
              "      <td>[aerosol_optical_thickness, aot]</td>\n",
              "      <td>NaN</td>\n",
              "    </tr>\n",
              "    <tr>\n",
              "      <th>WVP</th>\n",
              "      <td>WVP</td>\n",
              "      <td>int16</td>\n",
              "      <td>cm</td>\n",
              "      <td>-9999.0</td>\n",
              "      <td>[water_vapor_pressure, wvp]</td>\n",
              "      <td>NaN</td>\n",
              "    </tr>\n",
              "    <tr>\n",
              "      <th>SCL</th>\n",
              "      <td>SCL</td>\n",
              "      <td>int16</td>\n",
              "      <td></td>\n",
              "      <td>-9999.0</td>\n",
              "      <td>[scene_classification_map, scl]</td>\n",
              "      <td>{'water': {'bits': 0, 'values': {'6': True}, '...</td>\n",
              "    </tr>\n",
              "    <tr>\n",
              "      <th>TCI_R</th>\n",
              "      <td>TCI_R</td>\n",
              "      <td>int16</td>\n",
              "      <td></td>\n",
              "      <td>-9999.0</td>\n",
              "      <td>[true_color_image_red_channel, tci_r]</td>\n",
              "      <td>NaN</td>\n",
              "    </tr>\n",
              "    <tr>\n",
              "      <th>TCI_G</th>\n",
              "      <td>TCI_G</td>\n",
              "      <td>int16</td>\n",
              "      <td></td>\n",
              "      <td>-9999.0</td>\n",
              "      <td>[true_color_image_green_channel, tci_g]</td>\n",
              "      <td>NaN</td>\n",
              "    </tr>\n",
              "    <tr>\n",
              "      <th>TCI_B</th>\n",
              "      <td>TCI_B</td>\n",
              "      <td>int16</td>\n",
              "      <td></td>\n",
              "      <td>-9999.0</td>\n",
              "      <td>[true_color_image_blue_channel, tci_b]</td>\n",
              "      <td>NaN</td>\n",
              "    </tr>\n",
              "    <tr>\n",
              "      <th>QA60</th>\n",
              "      <td>QA60</td>\n",
              "      <td>int16</td>\n",
              "      <td></td>\n",
              "      <td>-9999.0</td>\n",
              "      <td>[cloud_mask, qa60, qa]</td>\n",
              "      <td>{'cirrus_clouds': {'bits': [11], 'values': {'0...</td>\n",
              "    </tr>\n",
              "  </tbody>\n",
              "</table>\n",
              "</div>"
            ],
            "text/plain": [
              "              name  ...                                   flags_definition\n",
              "measurement         ...                                                   \n",
              "B1              B1  ...                                                NaN\n",
              "B2              B2  ...                                                NaN\n",
              "B3              B3  ...                                                NaN\n",
              "B4              B4  ...                                                NaN\n",
              "B5              B5  ...                                                NaN\n",
              "B6              B6  ...                                                NaN\n",
              "B7              B7  ...                                                NaN\n",
              "B8              B8  ...                                                NaN\n",
              "B8A            B8A  ...                                                NaN\n",
              "B9              B9  ...                                                NaN\n",
              "B11            B11  ...                                                NaN\n",
              "B12            B12  ...                                                NaN\n",
              "AOT            AOT  ...                                                NaN\n",
              "WVP            WVP  ...                                                NaN\n",
              "SCL            SCL  ...  {'water': {'bits': 0, 'values': {'6': True}, '...\n",
              "TCI_R        TCI_R  ...                                                NaN\n",
              "TCI_G        TCI_G  ...                                                NaN\n",
              "TCI_B        TCI_B  ...                                                NaN\n",
              "QA60          QA60  ...  {'cirrus_clouds': {'bits': [11], 'values': {'0...\n",
              "\n",
              "[19 rows x 6 columns]"
            ]
          },
          "metadata": {},
          "execution_count": 4
        }
      ]
    },
    {
      "cell_type": "code",
      "source": [
        "# Define the Product and Platform\n",
        "# This data is indexed from Google Earth Engine data sources\n",
        "\n",
        "product = \"s2_google\"\n",
        "platform = \"Sentinel-2A\""
      ],
      "metadata": {
        "id": "8sXjNkRyE-h5"
      },
      "execution_count": 5,
      "outputs": []
    },
    {
      "cell_type": "markdown",
      "source": [
        "Using folium for getting the coordinates."
      ],
      "metadata": {
        "id": "bR5R3tAAKjQe"
      }
    },
    {
      "cell_type": "code",
      "source": [
        "import folium"
      ],
      "metadata": {
        "id": "oz367AC1HY4m"
      },
      "execution_count": 7,
      "outputs": []
    },
    {
      "cell_type": "code",
      "source": [
        "m = folium.Map(location=[42.5516, -80.8155], zoom_start=7)\n",
        "m.add_child(folium.LatLngPopup())"
      ],
      "metadata": {
        "colab": {
          "base_uri": "https://localhost:8080/",
          "height": 681
        },
        "id": "cInHWMgXH1Jx",
        "outputId": "41915734-dead-4fe3-9c59-8ff4e77746e3"
      },
      "execution_count": 8,
      "outputs": [
        {
          "output_type": "execute_result",
          "data": {
            "text/html": [
              "<div style=\"width:100%;\"><div style=\"position:relative;width:100%;height:0;padding-bottom:60%;\"><span style=\"color:#565656\">Make this Notebook Trusted to load map: File -> Trust Notebook</span><iframe src=\"about:blank\" style=\"position:absolute;width:100%;height:100%;left:0;top:0;border:none !important;\" data-html=%3C%21DOCTYPE%20html%3E%0A%3Chead%3E%20%20%20%20%0A%20%20%20%20%3Cmeta%20http-equiv%3D%22content-type%22%20content%3D%22text/html%3B%20charset%3DUTF-8%22%20/%3E%0A%20%20%20%20%3Cscript%3EL_PREFER_CANVAS%3Dfalse%3B%20L_NO_TOUCH%3Dfalse%3B%20L_DISABLE_3D%3Dfalse%3B%3C/script%3E%0A%20%20%20%20%3Cscript%20src%3D%22https%3A//cdn.jsdelivr.net/npm/leaflet%401.4.0/dist/leaflet.js%22%3E%3C/script%3E%0A%20%20%20%20%3Cscript%20src%3D%22https%3A//code.jquery.com/jquery-1.12.4.min.js%22%3E%3C/script%3E%0A%20%20%20%20%3Cscript%20src%3D%22https%3A//maxcdn.bootstrapcdn.com/bootstrap/3.2.0/js/bootstrap.min.js%22%3E%3C/script%3E%0A%20%20%20%20%3Cscript%20src%3D%22https%3A//cdnjs.cloudflare.com/ajax/libs/Leaflet.awesome-markers/2.0.2/leaflet.awesome-markers.js%22%3E%3C/script%3E%0A%20%20%20%20%3Clink%20rel%3D%22stylesheet%22%20href%3D%22https%3A//cdn.jsdelivr.net/npm/leaflet%401.4.0/dist/leaflet.css%22/%3E%0A%20%20%20%20%3Clink%20rel%3D%22stylesheet%22%20href%3D%22https%3A//maxcdn.bootstrapcdn.com/bootstrap/3.2.0/css/bootstrap.min.css%22/%3E%0A%20%20%20%20%3Clink%20rel%3D%22stylesheet%22%20href%3D%22https%3A//maxcdn.bootstrapcdn.com/bootstrap/3.2.0/css/bootstrap-theme.min.css%22/%3E%0A%20%20%20%20%3Clink%20rel%3D%22stylesheet%22%20href%3D%22https%3A//maxcdn.bootstrapcdn.com/font-awesome/4.6.3/css/font-awesome.min.css%22/%3E%0A%20%20%20%20%3Clink%20rel%3D%22stylesheet%22%20href%3D%22https%3A//cdnjs.cloudflare.com/ajax/libs/Leaflet.awesome-markers/2.0.2/leaflet.awesome-markers.css%22/%3E%0A%20%20%20%20%3Clink%20rel%3D%22stylesheet%22%20href%3D%22https%3A//rawcdn.githack.com/python-visualization/folium/master/folium/templates/leaflet.awesome.rotate.css%22/%3E%0A%20%20%20%20%3Cstyle%3Ehtml%2C%20body%20%7Bwidth%3A%20100%25%3Bheight%3A%20100%25%3Bmargin%3A%200%3Bpadding%3A%200%3B%7D%3C/style%3E%0A%20%20%20%20%3Cstyle%3E%23map%20%7Bposition%3Aabsolute%3Btop%3A0%3Bbottom%3A0%3Bright%3A0%3Bleft%3A0%3B%7D%3C/style%3E%0A%20%20%20%20%0A%20%20%20%20%3Cmeta%20name%3D%22viewport%22%20content%3D%22width%3Ddevice-width%2C%0A%20%20%20%20%20%20%20%20initial-scale%3D1.0%2C%20maximum-scale%3D1.0%2C%20user-scalable%3Dno%22%20/%3E%0A%20%20%20%20%3Cstyle%3E%23map_3539c3d31d83439881243d5134312a77%20%7B%0A%20%20%20%20%20%20%20%20position%3A%20relative%3B%0A%20%20%20%20%20%20%20%20width%3A%20100.0%25%3B%0A%20%20%20%20%20%20%20%20height%3A%20100.0%25%3B%0A%20%20%20%20%20%20%20%20left%3A%200.0%25%3B%0A%20%20%20%20%20%20%20%20top%3A%200.0%25%3B%0A%20%20%20%20%20%20%20%20%7D%0A%20%20%20%20%3C/style%3E%0A%3C/head%3E%0A%3Cbody%3E%20%20%20%20%0A%20%20%20%20%0A%20%20%20%20%3Cdiv%20class%3D%22folium-map%22%20id%3D%22map_3539c3d31d83439881243d5134312a77%22%20%3E%3C/div%3E%0A%3C/body%3E%0A%3Cscript%3E%20%20%20%20%0A%20%20%20%20%0A%20%20%20%20%0A%20%20%20%20%20%20%20%20var%20bounds%20%3D%20null%3B%0A%20%20%20%20%0A%0A%20%20%20%20var%20map_3539c3d31d83439881243d5134312a77%20%3D%20L.map%28%0A%20%20%20%20%20%20%20%20%27map_3539c3d31d83439881243d5134312a77%27%2C%20%7B%0A%20%20%20%20%20%20%20%20center%3A%20%5B42.5516%2C%20-80.8155%5D%2C%0A%20%20%20%20%20%20%20%20zoom%3A%207%2C%0A%20%20%20%20%20%20%20%20maxBounds%3A%20bounds%2C%0A%20%20%20%20%20%20%20%20layers%3A%20%5B%5D%2C%0A%20%20%20%20%20%20%20%20worldCopyJump%3A%20false%2C%0A%20%20%20%20%20%20%20%20crs%3A%20L.CRS.EPSG3857%2C%0A%20%20%20%20%20%20%20%20zoomControl%3A%20true%2C%0A%20%20%20%20%20%20%20%20%7D%29%3B%0A%0A%0A%20%20%20%20%0A%20%20%20%20var%20tile_layer_dd8ab4e7278f4e87b9d674d2428b80c1%20%3D%20L.tileLayer%28%0A%20%20%20%20%20%20%20%20%27https%3A//%7Bs%7D.tile.openstreetmap.org/%7Bz%7D/%7Bx%7D/%7By%7D.png%27%2C%0A%20%20%20%20%20%20%20%20%7B%0A%20%20%20%20%20%20%20%20%22attribution%22%3A%20null%2C%0A%20%20%20%20%20%20%20%20%22detectRetina%22%3A%20false%2C%0A%20%20%20%20%20%20%20%20%22maxNativeZoom%22%3A%2018%2C%0A%20%20%20%20%20%20%20%20%22maxZoom%22%3A%2018%2C%0A%20%20%20%20%20%20%20%20%22minZoom%22%3A%200%2C%0A%20%20%20%20%20%20%20%20%22noWrap%22%3A%20false%2C%0A%20%20%20%20%20%20%20%20%22opacity%22%3A%201%2C%0A%20%20%20%20%20%20%20%20%22subdomains%22%3A%20%22abc%22%2C%0A%20%20%20%20%20%20%20%20%22tms%22%3A%20false%0A%7D%29.addTo%28map_3539c3d31d83439881243d5134312a77%29%3B%0A%20%20%20%20%0A%20%20%20%20%20%20%20%20%20%20%20%20%20%20%20%20var%20lat_lng_popup_f204461085f54d8da5e0ad6740e08a9c%20%3D%20L.popup%28%29%3B%0A%20%20%20%20%20%20%20%20%20%20%20%20%20%20%20%20function%20latLngPop%28e%29%20%7B%0A%20%20%20%20%20%20%20%20%20%20%20%20%20%20%20%20%20%20%20%20lat_lng_popup_f204461085f54d8da5e0ad6740e08a9c%0A%20%20%20%20%20%20%20%20%20%20%20%20%20%20%20%20%20%20%20%20%20%20%20%20.setLatLng%28e.latlng%29%0A%20%20%20%20%20%20%20%20%20%20%20%20%20%20%20%20%20%20%20%20%20%20%20%20.setContent%28%22Latitude%3A%20%22%20%2B%20e.latlng.lat.toFixed%284%29%20%2B%0A%20%20%20%20%20%20%20%20%20%20%20%20%20%20%20%20%20%20%20%20%20%20%20%20%20%20%20%20%20%20%20%20%20%20%20%20%22%3Cbr%3ELongitude%3A%20%22%20%2B%20e.latlng.lng.toFixed%284%29%29%0A%20%20%20%20%20%20%20%20%20%20%20%20%20%20%20%20%20%20%20%20%20%20%20%20.openOn%28map_3539c3d31d83439881243d5134312a77%29%3B%0A%20%20%20%20%20%20%20%20%20%20%20%20%20%20%20%20%20%20%20%20%7D%0A%20%20%20%20%20%20%20%20%20%20%20%20%20%20%20%20map_3539c3d31d83439881243d5134312a77.on%28%27click%27%2C%20latLngPop%29%3B%0A%20%20%20%20%20%20%20%20%20%20%20%20%0A%3C/script%3E onload=\"this.contentDocument.open();this.contentDocument.write(    decodeURIComponent(this.getAttribute('data-html')));this.contentDocument.close();\" allowfullscreen webkitallowfullscreen mozallowfullscreen></iframe></div></div>"
            ],
            "text/plain": [
              "<folium.folium.Map at 0x7f41bac02990>"
            ]
          },
          "metadata": {},
          "execution_count": 8
        }
      ]
    },
    {
      "cell_type": "markdown",
      "source": [
        "I manually record the region of Lake Erie."
      ],
      "metadata": {
        "id": "yFFndat-KBuN"
      }
    },
    {
      "cell_type": "code",
      "source": [
        "latitude = (41.22, 42.89)\n",
        "longitude = (-83.74, -78.55)\n",
        "\n",
        "time_extents = ('2021-10-01', '2021-10-05')"
      ],
      "metadata": {
        "id": "blMR5njKHKYL"
      },
      "execution_count": 9,
      "outputs": []
    },
    {
      "cell_type": "markdown",
      "source": [
        "Confirming the region of interest"
      ],
      "metadata": {
        "id": "ta7RvTFRLENY"
      }
    },
    {
      "cell_type": "code",
      "source": [
        "from utils.data_cube_utilities.dc_display_map import display_map\n",
        "display_map(latitude,longitude)\n"
      ],
      "metadata": {
        "colab": {
          "base_uri": "https://localhost:8080/",
          "height": 681
        },
        "id": "AbSNlwPYK6Rl",
        "outputId": "aee77fd5-acba-4d4a-ff20-2367c53db2a1"
      },
      "execution_count": 10,
      "outputs": [
        {
          "output_type": "execute_result",
          "data": {
            "text/html": [
              "<div style=\"width:100%;\"><div style=\"position:relative;width:100%;height:0;padding-bottom:60%;\"><span style=\"color:#565656\">Make this Notebook Trusted to load map: File -> Trust Notebook</span><iframe src=\"about:blank\" style=\"position:absolute;width:100%;height:100%;left:0;top:0;border:none !important;\" data-html=%3C%21DOCTYPE%20html%3E%0A%3Chead%3E%20%20%20%20%0A%20%20%20%20%3Cmeta%20http-equiv%3D%22content-type%22%20content%3D%22text/html%3B%20charset%3DUTF-8%22%20/%3E%0A%20%20%20%20%3Cscript%3EL_PREFER_CANVAS%3Dfalse%3B%20L_NO_TOUCH%3Dfalse%3B%20L_DISABLE_3D%3Dfalse%3B%3C/script%3E%0A%20%20%20%20%3Cscript%20src%3D%22https%3A//cdn.jsdelivr.net/npm/leaflet%401.4.0/dist/leaflet.js%22%3E%3C/script%3E%0A%20%20%20%20%3Cscript%20src%3D%22https%3A//code.jquery.com/jquery-1.12.4.min.js%22%3E%3C/script%3E%0A%20%20%20%20%3Cscript%20src%3D%22https%3A//maxcdn.bootstrapcdn.com/bootstrap/3.2.0/js/bootstrap.min.js%22%3E%3C/script%3E%0A%20%20%20%20%3Cscript%20src%3D%22https%3A//cdnjs.cloudflare.com/ajax/libs/Leaflet.awesome-markers/2.0.2/leaflet.awesome-markers.js%22%3E%3C/script%3E%0A%20%20%20%20%3Clink%20rel%3D%22stylesheet%22%20href%3D%22https%3A//cdn.jsdelivr.net/npm/leaflet%401.4.0/dist/leaflet.css%22/%3E%0A%20%20%20%20%3Clink%20rel%3D%22stylesheet%22%20href%3D%22https%3A//maxcdn.bootstrapcdn.com/bootstrap/3.2.0/css/bootstrap.min.css%22/%3E%0A%20%20%20%20%3Clink%20rel%3D%22stylesheet%22%20href%3D%22https%3A//maxcdn.bootstrapcdn.com/bootstrap/3.2.0/css/bootstrap-theme.min.css%22/%3E%0A%20%20%20%20%3Clink%20rel%3D%22stylesheet%22%20href%3D%22https%3A//maxcdn.bootstrapcdn.com/font-awesome/4.6.3/css/font-awesome.min.css%22/%3E%0A%20%20%20%20%3Clink%20rel%3D%22stylesheet%22%20href%3D%22https%3A//cdnjs.cloudflare.com/ajax/libs/Leaflet.awesome-markers/2.0.2/leaflet.awesome-markers.css%22/%3E%0A%20%20%20%20%3Clink%20rel%3D%22stylesheet%22%20href%3D%22https%3A//rawcdn.githack.com/python-visualization/folium/master/folium/templates/leaflet.awesome.rotate.css%22/%3E%0A%20%20%20%20%3Cstyle%3Ehtml%2C%20body%20%7Bwidth%3A%20100%25%3Bheight%3A%20100%25%3Bmargin%3A%200%3Bpadding%3A%200%3B%7D%3C/style%3E%0A%20%20%20%20%3Cstyle%3E%23map%20%7Bposition%3Aabsolute%3Btop%3A0%3Bbottom%3A0%3Bright%3A0%3Bleft%3A0%3B%7D%3C/style%3E%0A%20%20%20%20%0A%20%20%20%20%3Cmeta%20name%3D%22viewport%22%20content%3D%22width%3Ddevice-width%2C%0A%20%20%20%20%20%20%20%20initial-scale%3D1.0%2C%20maximum-scale%3D1.0%2C%20user-scalable%3Dno%22%20/%3E%0A%20%20%20%20%3Cstyle%3E%23map_991b436f93db4e49a21c0a244439136d%20%7B%0A%20%20%20%20%20%20%20%20position%3A%20relative%3B%0A%20%20%20%20%20%20%20%20width%3A%20100.0%25%3B%0A%20%20%20%20%20%20%20%20height%3A%20100.0%25%3B%0A%20%20%20%20%20%20%20%20left%3A%200.0%25%3B%0A%20%20%20%20%20%20%20%20top%3A%200.0%25%3B%0A%20%20%20%20%20%20%20%20%7D%0A%20%20%20%20%3C/style%3E%0A%3C/head%3E%0A%3Cbody%3E%20%20%20%20%0A%20%20%20%20%0A%20%20%20%20%3Cdiv%20class%3D%22folium-map%22%20id%3D%22map_991b436f93db4e49a21c0a244439136d%22%20%3E%3C/div%3E%0A%3C/body%3E%0A%3Cscript%3E%20%20%20%20%0A%20%20%20%20%0A%20%20%20%20%0A%20%20%20%20%20%20%20%20var%20bounds%20%3D%20null%3B%0A%20%20%20%20%0A%0A%20%20%20%20var%20map_991b436f93db4e49a21c0a244439136d%20%3D%20L.map%28%0A%20%20%20%20%20%20%20%20%27map_991b436f93db4e49a21c0a244439136d%27%2C%20%7B%0A%20%20%20%20%20%20%20%20center%3A%20%5B42.055%2C%20-81.145%5D%2C%0A%20%20%20%20%20%20%20%20zoom%3A%207%2C%0A%20%20%20%20%20%20%20%20maxBounds%3A%20bounds%2C%0A%20%20%20%20%20%20%20%20layers%3A%20%5B%5D%2C%0A%20%20%20%20%20%20%20%20worldCopyJump%3A%20false%2C%0A%20%20%20%20%20%20%20%20crs%3A%20L.CRS.EPSG3857%2C%0A%20%20%20%20%20%20%20%20zoomControl%3A%20true%2C%0A%20%20%20%20%20%20%20%20%7D%29%3B%0A%0A%0A%20%20%20%20%0A%20%20%20%20%0A%20%20%20%20%20%20%20%20%20%20%20%20var%20feature_group_5c3a8f6414c84069acf4b081c626d566%20%3D%20L.featureGroup%28%0A%20%20%20%20%20%20%20%20%20%20%20%20%20%20%20%20%29.addTo%28map_991b436f93db4e49a21c0a244439136d%29%3B%0A%20%20%20%20%20%20%20%20%0A%20%20%20%20var%20tile_layer_d576d6c2e1f9453ab8fc347e3ab9bc91%20%3D%20L.tileLayer%28%0A%20%20%20%20%20%20%20%20%27https%3A//server.arcgisonline.com/ArcGIS/rest/services/World_Imagery/MapServer/tile/%7Bz%7D/%7By%7D/%7Bx%7D%27%2C%0A%20%20%20%20%20%20%20%20%7B%0A%20%20%20%20%20%20%20%20%22attribution%22%3A%20%22Tiles%20%26copy%3B%20Esri%20%26mdash%3B%20Source%3A%20Esri%2C%20i-cubed%2C%20USDA%2C%20USGS%2C%20AEX%2C%20GeoEye%2C%20Getmapping%2C%20Aerogrid%2C%20IGN%2C%20IGP%2C%20UPR-EGP%2C%20and%20the%20GIS%20User%20Community%22%2C%0A%20%20%20%20%20%20%20%20%22detectRetina%22%3A%20false%2C%0A%20%20%20%20%20%20%20%20%22maxNativeZoom%22%3A%2018%2C%0A%20%20%20%20%20%20%20%20%22maxZoom%22%3A%2018%2C%0A%20%20%20%20%20%20%20%20%22minZoom%22%3A%200%2C%0A%20%20%20%20%20%20%20%20%22noWrap%22%3A%20false%2C%0A%20%20%20%20%20%20%20%20%22opacity%22%3A%201%2C%0A%20%20%20%20%20%20%20%20%22subdomains%22%3A%20%22abc%22%2C%0A%20%20%20%20%20%20%20%20%22tms%22%3A%20false%0A%7D%29.addTo%28feature_group_5c3a8f6414c84069acf4b081c626d566%29%3B%0A%20%20%20%20var%20tile_layer_0f2297353d5a442ea308b4614c6e86b9%20%3D%20L.tileLayer%28%0A%20%20%20%20%20%20%20%20%27https%3A//stamen-tiles-%7Bs%7D.a.ssl.fastly.net/toner-labels/%7Bz%7D/%7Bx%7D/%7By%7D%7Br%7D.png%27%2C%0A%20%20%20%20%20%20%20%20%7B%0A%20%20%20%20%20%20%20%20%22attribution%22%3A%20%22Map%20tiles%20by%20%3Ca%20href%3D%5C%22http%3A//stamen.com%5C%22%3EStamen%20Design%3C/a%3E%2C%20%3Ca%20href%3D%5C%22http%3A//creativecommons.org/licenses/by/3.0%5C%22%3ECC%20BY%203.0%3C/a%3E%20%26mdash%3B%20Map%20data%20%26copy%3B%20%3Ca%20href%3D%5C%22https%3A//www.openstreetmap.org/copyright%5C%22%3EOpenStreetMap%3C/a%3E%20contributors%22%2C%0A%20%20%20%20%20%20%20%20%22detectRetina%22%3A%20false%2C%0A%20%20%20%20%20%20%20%20%22maxNativeZoom%22%3A%2020%2C%0A%20%20%20%20%20%20%20%20%22maxZoom%22%3A%2020%2C%0A%20%20%20%20%20%20%20%20%22minZoom%22%3A%200%2C%0A%20%20%20%20%20%20%20%20%22noWrap%22%3A%20false%2C%0A%20%20%20%20%20%20%20%20%22opacity%22%3A%201%2C%0A%20%20%20%20%20%20%20%20%22subdomains%22%3A%20%22abcd%22%2C%0A%20%20%20%20%20%20%20%20%22tms%22%3A%20false%0A%7D%29.addTo%28feature_group_5c3a8f6414c84069acf4b081c626d566%29%3B%0A%20%20%20%20var%20tile_layer_b8164741345c48b287bc3eab53c5fcec%20%3D%20L.tileLayer%28%0A%20%20%20%20%20%20%20%20%27https%3A//stamen-tiles-%7Bs%7D.a.ssl.fastly.net/toner-lines/%7Bz%7D/%7Bx%7D/%7By%7D%7Br%7D.png%27%2C%0A%20%20%20%20%20%20%20%20%7B%0A%20%20%20%20%20%20%20%20%22attribution%22%3A%20%22Map%20tiles%20by%20%3Ca%20href%3D%5C%22http%3A//stamen.com%5C%22%3EStamen%20Design%3C/a%3E%2C%20%3Ca%20href%3D%5C%22http%3A//creativecommons.org/licenses/by/3.0%5C%22%3ECC%20BY%203.0%3C/a%3E%20%26mdash%3B%20Map%20data%20%26copy%3B%20%3Ca%20href%3D%5C%22https%3A//www.openstreetmap.org/copyright%5C%22%3EOpenStreetMap%3C/a%3E%20contributors%22%2C%0A%20%20%20%20%20%20%20%20%22detectRetina%22%3A%20false%2C%0A%20%20%20%20%20%20%20%20%22maxNativeZoom%22%3A%2020%2C%0A%20%20%20%20%20%20%20%20%22maxZoom%22%3A%2020%2C%0A%20%20%20%20%20%20%20%20%22minZoom%22%3A%200%2C%0A%20%20%20%20%20%20%20%20%22noWrap%22%3A%20false%2C%0A%20%20%20%20%20%20%20%20%22opacity%22%3A%200.4%2C%0A%20%20%20%20%20%20%20%20%22subdomains%22%3A%20%22abcd%22%2C%0A%20%20%20%20%20%20%20%20%22tms%22%3A%20false%0A%7D%29.addTo%28feature_group_5c3a8f6414c84069acf4b081c626d566%29%3B%0A%20%20%20%20%0A%20%20%20%20%20%20%20%20%20%20%20%20%20%20%20%20var%20poly_line_752250e766484c149481be92bb5fbb4f%20%3D%20L.polyline%28%0A%20%20%20%20%20%20%20%20%20%20%20%20%20%20%20%20%20%20%20%20%5B%5B41.22%2C%20-83.74%5D%2C%20%5B41.22%2C%20-78.55%5D%2C%20%5B42.89%2C%20-78.55%5D%2C%20%5B42.89%2C%20-83.74%5D%2C%20%5B41.22%2C%20-83.74%5D%5D%2C%0A%20%20%20%20%20%20%20%20%20%20%20%20%20%20%20%20%20%20%20%20%7B%0A%20%20%22bubblingMouseEvents%22%3A%20true%2C%0A%20%20%22color%22%3A%20%22red%22%2C%0A%20%20%22dashArray%22%3A%20null%2C%0A%20%20%22dashOffset%22%3A%20null%2C%0A%20%20%22fill%22%3A%20false%2C%0A%20%20%22fillColor%22%3A%20%22red%22%2C%0A%20%20%22fillOpacity%22%3A%200.2%2C%0A%20%20%22fillRule%22%3A%20%22evenodd%22%2C%0A%20%20%22lineCap%22%3A%20%22round%22%2C%0A%20%20%22lineJoin%22%3A%20%22round%22%2C%0A%20%20%22noClip%22%3A%20false%2C%0A%20%20%22opacity%22%3A%200.8%2C%0A%20%20%22smoothFactor%22%3A%201.0%2C%0A%20%20%22stroke%22%3A%20true%2C%0A%20%20%22weight%22%3A%203%0A%7D%0A%20%20%20%20%20%20%20%20%20%20%20%20%20%20%20%20%20%20%20%20%29%0A%20%20%20%20%20%20%20%20%20%20%20%20%20%20%20%20%20%20%20%20.addTo%28map_991b436f93db4e49a21c0a244439136d%29%3B%0A%20%20%20%20%20%20%20%20%20%20%20%20%0A%20%20%20%20%0A%20%20%20%20%20%20%20%20%20%20%20%20%20%20%20%20var%20lat_lng_popup_8ec6ec31a402480d95963b8974bc3aa0%20%3D%20L.popup%28%29%3B%0A%20%20%20%20%20%20%20%20%20%20%20%20%20%20%20%20function%20latLngPop%28e%29%20%7B%0A%20%20%20%20%20%20%20%20%20%20%20%20%20%20%20%20%20%20%20%20lat_lng_popup_8ec6ec31a402480d95963b8974bc3aa0%0A%20%20%20%20%20%20%20%20%20%20%20%20%20%20%20%20%20%20%20%20%20%20%20%20.setLatLng%28e.latlng%29%0A%20%20%20%20%20%20%20%20%20%20%20%20%20%20%20%20%20%20%20%20%20%20%20%20.setContent%28%22Latitude%3A%20%22%20%2B%20e.latlng.lat.toFixed%284%29%20%2B%0A%20%20%20%20%20%20%20%20%20%20%20%20%20%20%20%20%20%20%20%20%20%20%20%20%20%20%20%20%20%20%20%20%20%20%20%20%22%3Cbr%3ELongitude%3A%20%22%20%2B%20e.latlng.lng.toFixed%284%29%29%0A%20%20%20%20%20%20%20%20%20%20%20%20%20%20%20%20%20%20%20%20%20%20%20%20.openOn%28map_991b436f93db4e49a21c0a244439136d%29%3B%0A%20%20%20%20%20%20%20%20%20%20%20%20%20%20%20%20%20%20%20%20%7D%0A%20%20%20%20%20%20%20%20%20%20%20%20%20%20%20%20map_991b436f93db4e49a21c0a244439136d.on%28%27click%27%2C%20latLngPop%29%3B%0A%20%20%20%20%20%20%20%20%20%20%20%20%0A%3C/script%3E onload=\"this.contentDocument.open();this.contentDocument.write(    decodeURIComponent(this.getAttribute('data-html')));this.contentDocument.close();\" allowfullscreen webkitallowfullscreen mozallowfullscreen></iframe></div></div>"
            ],
            "text/plain": [
              "<folium.folium.Map at 0x7f41bac7d0d0>"
            ]
          },
          "metadata": {},
          "execution_count": 10
        }
      ]
    },
    {
      "cell_type": "markdown",
      "source": [
        "Now to load the data - this block might take a few minutes to run."
      ],
      "metadata": {
        "id": "riN-bOyyLOnN"
      }
    },
    {
      "cell_type": "markdown",
      "source": [
        "## Unfortunately, the region is too large to read in RAM. It crashes the kernel."
      ],
      "metadata": {
        "id": "odrbhNBeOG6N"
      }
    },
    {
      "cell_type": "code",
      "source": [
        "ds = dc.load(product=product,\n",
        "             latitude=latitude,\n",
        "             longitude=longitude,\n",
        "             time=time_extents,\n",
        "             measurements=['red', 'green', 'blue', 'nir'])\n",
        "\n",
        "print(ds)"
      ],
      "metadata": {
        "id": "mVT5DPUvK_bP"
      },
      "execution_count": null,
      "outputs": []
    },
    {
      "cell_type": "code",
      "source": [
        ""
      ],
      "metadata": {
        "id": "A5ZLZ3B_LgW_"
      },
      "execution_count": null,
      "outputs": []
    }
  ]
}