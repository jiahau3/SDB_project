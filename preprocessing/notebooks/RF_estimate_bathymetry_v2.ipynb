{
 "cells": [
  {
   "cell_type": "markdown",
   "id": "6953cc5c",
   "metadata": {},
   "source": [
    "### This notebook demonstrates the prediction of bathymetry by using random forest model. The data is mosaicked by taking the median of 1 yr long satellite images (from 2020/10). Assuming the water level remains the same all the year."
   ]
  },
  {
   "cell_type": "code",
   "execution_count": 1,
   "id": "7ad0cf0c",
   "metadata": {},
   "outputs": [],
   "source": [
    "import rioxarray as rxr"
   ]
  },
  {
   "cell_type": "code",
   "execution_count": 2,
   "id": "e33b1292",
   "metadata": {},
   "outputs": [],
   "source": [
    "#swanson_da = rxr.open_rasterio('../data/swanson/202010_1yr_median_clipped.tif')\n",
    "swanson_da = rxr.open_rasterio('202010_1yr_median_clipped.tif')"
   ]
  },
  {
   "cell_type": "markdown",
   "id": "5f6138c8",
   "metadata": {},
   "source": [
    "#### Note: the bands are changed from string to integer"
   ]
  },
  {
   "cell_type": "code",
   "execution_count": 3,
   "id": "30ffb739",
   "metadata": {},
   "outputs": [
    {
     "data": {
      "text/html": [
       "<div><svg style=\"position: absolute; width: 0; height: 0; overflow: hidden\">\n",
       "<defs>\n",
       "<symbol id=\"icon-database\" viewBox=\"0 0 32 32\">\n",
       "<path d=\"M16 0c-8.837 0-16 2.239-16 5v4c0 2.761 7.163 5 16 5s16-2.239 16-5v-4c0-2.761-7.163-5-16-5z\"></path>\n",
       "<path d=\"M16 17c-8.837 0-16-2.239-16-5v6c0 2.761 7.163 5 16 5s16-2.239 16-5v-6c0 2.761-7.163 5-16 5z\"></path>\n",
       "<path d=\"M16 26c-8.837 0-16-2.239-16-5v6c0 2.761 7.163 5 16 5s16-2.239 16-5v-6c0 2.761-7.163 5-16 5z\"></path>\n",
       "</symbol>\n",
       "<symbol id=\"icon-file-text2\" viewBox=\"0 0 32 32\">\n",
       "<path d=\"M28.681 7.159c-0.694-0.947-1.662-2.053-2.724-3.116s-2.169-2.030-3.116-2.724c-1.612-1.182-2.393-1.319-2.841-1.319h-15.5c-1.378 0-2.5 1.121-2.5 2.5v27c0 1.378 1.122 2.5 2.5 2.5h23c1.378 0 2.5-1.122 2.5-2.5v-19.5c0-0.448-0.137-1.23-1.319-2.841zM24.543 5.457c0.959 0.959 1.712 1.825 2.268 2.543h-4.811v-4.811c0.718 0.556 1.584 1.309 2.543 2.268zM28 29.5c0 0.271-0.229 0.5-0.5 0.5h-23c-0.271 0-0.5-0.229-0.5-0.5v-27c0-0.271 0.229-0.5 0.5-0.5 0 0 15.499-0 15.5 0v7c0 0.552 0.448 1 1 1h7v19.5z\"></path>\n",
       "<path d=\"M23 26h-14c-0.552 0-1-0.448-1-1s0.448-1 1-1h14c0.552 0 1 0.448 1 1s-0.448 1-1 1z\"></path>\n",
       "<path d=\"M23 22h-14c-0.552 0-1-0.448-1-1s0.448-1 1-1h14c0.552 0 1 0.448 1 1s-0.448 1-1 1z\"></path>\n",
       "<path d=\"M23 18h-14c-0.552 0-1-0.448-1-1s0.448-1 1-1h14c0.552 0 1 0.448 1 1s-0.448 1-1 1z\"></path>\n",
       "</symbol>\n",
       "</defs>\n",
       "</svg>\n",
       "<style>/* CSS stylesheet for displaying xarray objects in jupyterlab.\n",
       " *\n",
       " */\n",
       "\n",
       ":root {\n",
       "  --xr-font-color0: var(--jp-content-font-color0, rgba(0, 0, 0, 1));\n",
       "  --xr-font-color2: var(--jp-content-font-color2, rgba(0, 0, 0, 0.54));\n",
       "  --xr-font-color3: var(--jp-content-font-color3, rgba(0, 0, 0, 0.38));\n",
       "  --xr-border-color: var(--jp-border-color2, #e0e0e0);\n",
       "  --xr-disabled-color: var(--jp-layout-color3, #bdbdbd);\n",
       "  --xr-background-color: var(--jp-layout-color0, white);\n",
       "  --xr-background-color-row-even: var(--jp-layout-color1, white);\n",
       "  --xr-background-color-row-odd: var(--jp-layout-color2, #eeeeee);\n",
       "}\n",
       "\n",
       "html[theme=dark],\n",
       "body.vscode-dark {\n",
       "  --xr-font-color0: rgba(255, 255, 255, 1);\n",
       "  --xr-font-color2: rgba(255, 255, 255, 0.54);\n",
       "  --xr-font-color3: rgba(255, 255, 255, 0.38);\n",
       "  --xr-border-color: #1F1F1F;\n",
       "  --xr-disabled-color: #515151;\n",
       "  --xr-background-color: #111111;\n",
       "  --xr-background-color-row-even: #111111;\n",
       "  --xr-background-color-row-odd: #313131;\n",
       "}\n",
       "\n",
       ".xr-wrap {\n",
       "  display: block !important;\n",
       "  min-width: 300px;\n",
       "  max-width: 700px;\n",
       "}\n",
       "\n",
       ".xr-text-repr-fallback {\n",
       "  /* fallback to plain text repr when CSS is not injected (untrusted notebook) */\n",
       "  display: none;\n",
       "}\n",
       "\n",
       ".xr-header {\n",
       "  padding-top: 6px;\n",
       "  padding-bottom: 6px;\n",
       "  margin-bottom: 4px;\n",
       "  border-bottom: solid 1px var(--xr-border-color);\n",
       "}\n",
       "\n",
       ".xr-header > div,\n",
       ".xr-header > ul {\n",
       "  display: inline;\n",
       "  margin-top: 0;\n",
       "  margin-bottom: 0;\n",
       "}\n",
       "\n",
       ".xr-obj-type,\n",
       ".xr-array-name {\n",
       "  margin-left: 2px;\n",
       "  margin-right: 10px;\n",
       "}\n",
       "\n",
       ".xr-obj-type {\n",
       "  color: var(--xr-font-color2);\n",
       "}\n",
       "\n",
       ".xr-sections {\n",
       "  padding-left: 0 !important;\n",
       "  display: grid;\n",
       "  grid-template-columns: 150px auto auto 1fr 20px 20px;\n",
       "}\n",
       "\n",
       ".xr-section-item {\n",
       "  display: contents;\n",
       "}\n",
       "\n",
       ".xr-section-item input {\n",
       "  display: none;\n",
       "}\n",
       "\n",
       ".xr-section-item input + label {\n",
       "  color: var(--xr-disabled-color);\n",
       "}\n",
       "\n",
       ".xr-section-item input:enabled + label {\n",
       "  cursor: pointer;\n",
       "  color: var(--xr-font-color2);\n",
       "}\n",
       "\n",
       ".xr-section-item input:enabled + label:hover {\n",
       "  color: var(--xr-font-color0);\n",
       "}\n",
       "\n",
       ".xr-section-summary {\n",
       "  grid-column: 1;\n",
       "  color: var(--xr-font-color2);\n",
       "  font-weight: 500;\n",
       "}\n",
       "\n",
       ".xr-section-summary > span {\n",
       "  display: inline-block;\n",
       "  padding-left: 0.5em;\n",
       "}\n",
       "\n",
       ".xr-section-summary-in:disabled + label {\n",
       "  color: var(--xr-font-color2);\n",
       "}\n",
       "\n",
       ".xr-section-summary-in + label:before {\n",
       "  display: inline-block;\n",
       "  content: '►';\n",
       "  font-size: 11px;\n",
       "  width: 15px;\n",
       "  text-align: center;\n",
       "}\n",
       "\n",
       ".xr-section-summary-in:disabled + label:before {\n",
       "  color: var(--xr-disabled-color);\n",
       "}\n",
       "\n",
       ".xr-section-summary-in:checked + label:before {\n",
       "  content: '▼';\n",
       "}\n",
       "\n",
       ".xr-section-summary-in:checked + label > span {\n",
       "  display: none;\n",
       "}\n",
       "\n",
       ".xr-section-summary,\n",
       ".xr-section-inline-details {\n",
       "  padding-top: 4px;\n",
       "  padding-bottom: 4px;\n",
       "}\n",
       "\n",
       ".xr-section-inline-details {\n",
       "  grid-column: 2 / -1;\n",
       "}\n",
       "\n",
       ".xr-section-details {\n",
       "  display: none;\n",
       "  grid-column: 1 / -1;\n",
       "  margin-bottom: 5px;\n",
       "}\n",
       "\n",
       ".xr-section-summary-in:checked ~ .xr-section-details {\n",
       "  display: contents;\n",
       "}\n",
       "\n",
       ".xr-array-wrap {\n",
       "  grid-column: 1 / -1;\n",
       "  display: grid;\n",
       "  grid-template-columns: 20px auto;\n",
       "}\n",
       "\n",
       ".xr-array-wrap > label {\n",
       "  grid-column: 1;\n",
       "  vertical-align: top;\n",
       "}\n",
       "\n",
       ".xr-preview {\n",
       "  color: var(--xr-font-color3);\n",
       "}\n",
       "\n",
       ".xr-array-preview,\n",
       ".xr-array-data {\n",
       "  padding: 0 5px !important;\n",
       "  grid-column: 2;\n",
       "}\n",
       "\n",
       ".xr-array-data,\n",
       ".xr-array-in:checked ~ .xr-array-preview {\n",
       "  display: none;\n",
       "}\n",
       "\n",
       ".xr-array-in:checked ~ .xr-array-data,\n",
       ".xr-array-preview {\n",
       "  display: inline-block;\n",
       "}\n",
       "\n",
       ".xr-dim-list {\n",
       "  display: inline-block !important;\n",
       "  list-style: none;\n",
       "  padding: 0 !important;\n",
       "  margin: 0;\n",
       "}\n",
       "\n",
       ".xr-dim-list li {\n",
       "  display: inline-block;\n",
       "  padding: 0;\n",
       "  margin: 0;\n",
       "}\n",
       "\n",
       ".xr-dim-list:before {\n",
       "  content: '(';\n",
       "}\n",
       "\n",
       ".xr-dim-list:after {\n",
       "  content: ')';\n",
       "}\n",
       "\n",
       ".xr-dim-list li:not(:last-child):after {\n",
       "  content: ',';\n",
       "  padding-right: 5px;\n",
       "}\n",
       "\n",
       ".xr-has-index {\n",
       "  font-weight: bold;\n",
       "}\n",
       "\n",
       ".xr-var-list,\n",
       ".xr-var-item {\n",
       "  display: contents;\n",
       "}\n",
       "\n",
       ".xr-var-item > div,\n",
       ".xr-var-item label,\n",
       ".xr-var-item > .xr-var-name span {\n",
       "  background-color: var(--xr-background-color-row-even);\n",
       "  margin-bottom: 0;\n",
       "}\n",
       "\n",
       ".xr-var-item > .xr-var-name:hover span {\n",
       "  padding-right: 5px;\n",
       "}\n",
       "\n",
       ".xr-var-list > li:nth-child(odd) > div,\n",
       ".xr-var-list > li:nth-child(odd) > label,\n",
       ".xr-var-list > li:nth-child(odd) > .xr-var-name span {\n",
       "  background-color: var(--xr-background-color-row-odd);\n",
       "}\n",
       "\n",
       ".xr-var-name {\n",
       "  grid-column: 1;\n",
       "}\n",
       "\n",
       ".xr-var-dims {\n",
       "  grid-column: 2;\n",
       "}\n",
       "\n",
       ".xr-var-dtype {\n",
       "  grid-column: 3;\n",
       "  text-align: right;\n",
       "  color: var(--xr-font-color2);\n",
       "}\n",
       "\n",
       ".xr-var-preview {\n",
       "  grid-column: 4;\n",
       "}\n",
       "\n",
       ".xr-var-name,\n",
       ".xr-var-dims,\n",
       ".xr-var-dtype,\n",
       ".xr-preview,\n",
       ".xr-attrs dt {\n",
       "  white-space: nowrap;\n",
       "  overflow: hidden;\n",
       "  text-overflow: ellipsis;\n",
       "  padding-right: 10px;\n",
       "}\n",
       "\n",
       ".xr-var-name:hover,\n",
       ".xr-var-dims:hover,\n",
       ".xr-var-dtype:hover,\n",
       ".xr-attrs dt:hover {\n",
       "  overflow: visible;\n",
       "  width: auto;\n",
       "  z-index: 1;\n",
       "}\n",
       "\n",
       ".xr-var-attrs,\n",
       ".xr-var-data {\n",
       "  display: none;\n",
       "  background-color: var(--xr-background-color) !important;\n",
       "  padding-bottom: 5px !important;\n",
       "}\n",
       "\n",
       ".xr-var-attrs-in:checked ~ .xr-var-attrs,\n",
       ".xr-var-data-in:checked ~ .xr-var-data {\n",
       "  display: block;\n",
       "}\n",
       "\n",
       ".xr-var-data > table {\n",
       "  float: right;\n",
       "}\n",
       "\n",
       ".xr-var-name span,\n",
       ".xr-var-data,\n",
       ".xr-attrs {\n",
       "  padding-left: 25px !important;\n",
       "}\n",
       "\n",
       ".xr-attrs,\n",
       ".xr-var-attrs,\n",
       ".xr-var-data {\n",
       "  grid-column: 1 / -1;\n",
       "}\n",
       "\n",
       "dl.xr-attrs {\n",
       "  padding: 0;\n",
       "  margin: 0;\n",
       "  display: grid;\n",
       "  grid-template-columns: 125px auto;\n",
       "}\n",
       "\n",
       ".xr-attrs dt,\n",
       ".xr-attrs dd {\n",
       "  padding: 0;\n",
       "  margin: 0;\n",
       "  float: left;\n",
       "  padding-right: 10px;\n",
       "  width: auto;\n",
       "}\n",
       "\n",
       ".xr-attrs dt {\n",
       "  font-weight: normal;\n",
       "  grid-column: 1;\n",
       "}\n",
       "\n",
       ".xr-attrs dt:hover span {\n",
       "  display: inline-block;\n",
       "  background: var(--xr-background-color);\n",
       "  padding-right: 10px;\n",
       "}\n",
       "\n",
       ".xr-attrs dd {\n",
       "  grid-column: 2;\n",
       "  white-space: pre-wrap;\n",
       "  word-break: break-all;\n",
       "}\n",
       "\n",
       ".xr-icon-database,\n",
       ".xr-icon-file-text2 {\n",
       "  display: inline-block;\n",
       "  vertical-align: middle;\n",
       "  width: 1em;\n",
       "  height: 1.5em !important;\n",
       "  stroke-width: 0;\n",
       "  stroke: currentColor;\n",
       "  fill: currentColor;\n",
       "}\n",
       "</style><pre class='xr-text-repr-fallback'>&lt;xarray.DataArray (band: 16, y: 412, x: 793)&gt;\n",
       "[5227456 values with dtype=float64]\n",
       "Coordinates:\n",
       "  * band         (band) int32 1 2 3 4 5 6 7 8 9 10 11 12 13 14 15 16\n",
       "  * x            (x) float64 3.165e+05 3.165e+05 ... 3.244e+05 3.244e+05\n",
       "  * y            (y) float64 4.45e+06 4.45e+06 4.45e+06 ... 4.446e+06 4.446e+06\n",
       "    spatial_ref  int32 0\n",
       "Attributes:\n",
       "    scale_factor:  1.0\n",
       "    add_offset:    0.0\n",
       "    long_name:     stackstac-2def63b493e1413ae9abc6d4d5850467</pre><div class='xr-wrap' style='display:none'><div class='xr-header'><div class='xr-obj-type'>xarray.DataArray</div><div class='xr-array-name'></div><ul class='xr-dim-list'><li><span class='xr-has-index'>band</span>: 16</li><li><span class='xr-has-index'>y</span>: 412</li><li><span class='xr-has-index'>x</span>: 793</li></ul></div><ul class='xr-sections'><li class='xr-section-item'><div class='xr-array-wrap'><input id='section-b12638e7-e3d7-4953-9363-11558ffe668a' class='xr-array-in' type='checkbox' checked><label for='section-b12638e7-e3d7-4953-9363-11558ffe668a' title='Show/hide data repr'><svg class='icon xr-icon-database'><use xlink:href='#icon-database'></use></svg></label><div class='xr-array-preview xr-preview'><span>...</span></div><div class='xr-array-data'><pre>[5227456 values with dtype=float64]</pre></div></div></li><li class='xr-section-item'><input id='section-6cc48e1b-f7c0-43a5-a858-4ec11e25d03b' class='xr-section-summary-in' type='checkbox'  checked><label for='section-6cc48e1b-f7c0-43a5-a858-4ec11e25d03b' class='xr-section-summary' >Coordinates: <span>(4)</span></label><div class='xr-section-inline-details'></div><div class='xr-section-details'><ul class='xr-var-list'><li class='xr-var-item'><div class='xr-var-name'><span class='xr-has-index'>band</span></div><div class='xr-var-dims'>(band)</div><div class='xr-var-dtype'>int32</div><div class='xr-var-preview xr-preview'>1 2 3 4 5 6 7 ... 11 12 13 14 15 16</div><input id='attrs-53f57390-240e-483c-bf0e-5d856c7dd814' class='xr-var-attrs-in' type='checkbox' disabled><label for='attrs-53f57390-240e-483c-bf0e-5d856c7dd814' title='Show/Hide attributes'><svg class='icon xr-icon-file-text2'><use xlink:href='#icon-file-text2'></use></svg></label><input id='data-85278495-372f-42f2-97ef-5dcf57e58368' class='xr-var-data-in' type='checkbox'><label for='data-85278495-372f-42f2-97ef-5dcf57e58368' title='Show/Hide data repr'><svg class='icon xr-icon-database'><use xlink:href='#icon-database'></use></svg></label><div class='xr-var-attrs'><dl class='xr-attrs'></dl></div><div class='xr-var-data'><pre>array([ 1,  2,  3,  4,  5,  6,  7,  8,  9, 10, 11, 12, 13, 14, 15, 16])</pre></div></li><li class='xr-var-item'><div class='xr-var-name'><span class='xr-has-index'>x</span></div><div class='xr-var-dims'>(x)</div><div class='xr-var-dtype'>float64</div><div class='xr-var-preview xr-preview'>3.165e+05 3.165e+05 ... 3.244e+05</div><input id='attrs-155a447d-2ce1-404a-b704-03b107286905' class='xr-var-attrs-in' type='checkbox' disabled><label for='attrs-155a447d-2ce1-404a-b704-03b107286905' title='Show/Hide attributes'><svg class='icon xr-icon-file-text2'><use xlink:href='#icon-file-text2'></use></svg></label><input id='data-ca3da4b0-e57a-4287-8416-c9845c8fb64d' class='xr-var-data-in' type='checkbox'><label for='data-ca3da4b0-e57a-4287-8416-c9845c8fb64d' title='Show/Hide data repr'><svg class='icon xr-icon-database'><use xlink:href='#icon-database'></use></svg></label><div class='xr-var-attrs'><dl class='xr-attrs'></dl></div><div class='xr-var-data'><pre>array([316460., 316470., 316480., ..., 324360., 324370., 324380.])</pre></div></li><li class='xr-var-item'><div class='xr-var-name'><span class='xr-has-index'>y</span></div><div class='xr-var-dims'>(y)</div><div class='xr-var-dtype'>float64</div><div class='xr-var-preview xr-preview'>4.45e+06 4.45e+06 ... 4.446e+06</div><input id='attrs-72ba7c36-a135-4ae4-9c56-edd74466572f' class='xr-var-attrs-in' type='checkbox' disabled><label for='attrs-72ba7c36-a135-4ae4-9c56-edd74466572f' title='Show/Hide attributes'><svg class='icon xr-icon-file-text2'><use xlink:href='#icon-file-text2'></use></svg></label><input id='data-1cb16487-4dd3-4ac3-b256-8f99289d7116' class='xr-var-data-in' type='checkbox'><label for='data-1cb16487-4dd3-4ac3-b256-8f99289d7116' title='Show/Hide data repr'><svg class='icon xr-icon-database'><use xlink:href='#icon-database'></use></svg></label><div class='xr-var-attrs'><dl class='xr-attrs'></dl></div><div class='xr-var-data'><pre>array([4449730., 4449720., 4449710., ..., 4445640., 4445630., 4445620.])</pre></div></li><li class='xr-var-item'><div class='xr-var-name'><span>spatial_ref</span></div><div class='xr-var-dims'>()</div><div class='xr-var-dtype'>int32</div><div class='xr-var-preview xr-preview'>0</div><input id='attrs-a0740f40-7290-4847-9a12-d677f3fbf9f4' class='xr-var-attrs-in' type='checkbox' ><label for='attrs-a0740f40-7290-4847-9a12-d677f3fbf9f4' title='Show/Hide attributes'><svg class='icon xr-icon-file-text2'><use xlink:href='#icon-file-text2'></use></svg></label><input id='data-f1c49a80-7604-421a-af68-e546bf61cd87' class='xr-var-data-in' type='checkbox'><label for='data-f1c49a80-7604-421a-af68-e546bf61cd87' title='Show/Hide data repr'><svg class='icon xr-icon-database'><use xlink:href='#icon-database'></use></svg></label><div class='xr-var-attrs'><dl class='xr-attrs'><dt><span>crs_wkt :</span></dt><dd>PROJCS[&quot;WGS 84 / UTM zone 14N&quot;,GEOGCS[&quot;WGS 84&quot;,DATUM[&quot;WGS_1984&quot;,SPHEROID[&quot;WGS 84&quot;,6378137,298.257223563,AUTHORITY[&quot;EPSG&quot;,&quot;7030&quot;]],AUTHORITY[&quot;EPSG&quot;,&quot;6326&quot;]],PRIMEM[&quot;Greenwich&quot;,0,AUTHORITY[&quot;EPSG&quot;,&quot;8901&quot;]],UNIT[&quot;degree&quot;,0.0174532925199433,AUTHORITY[&quot;EPSG&quot;,&quot;9122&quot;]],AUTHORITY[&quot;EPSG&quot;,&quot;4326&quot;]],PROJECTION[&quot;Transverse_Mercator&quot;],PARAMETER[&quot;latitude_of_origin&quot;,0],PARAMETER[&quot;central_meridian&quot;,-99],PARAMETER[&quot;scale_factor&quot;,0.9996],PARAMETER[&quot;false_easting&quot;,500000],PARAMETER[&quot;false_northing&quot;,0],UNIT[&quot;metre&quot;,1,AUTHORITY[&quot;EPSG&quot;,&quot;9001&quot;]],AXIS[&quot;Easting&quot;,EAST],AXIS[&quot;Northing&quot;,NORTH],AUTHORITY[&quot;EPSG&quot;,&quot;32614&quot;]]</dd><dt><span>semi_major_axis :</span></dt><dd>6378137.0</dd><dt><span>semi_minor_axis :</span></dt><dd>6356752.314245179</dd><dt><span>inverse_flattening :</span></dt><dd>298.257223563</dd><dt><span>reference_ellipsoid_name :</span></dt><dd>WGS 84</dd><dt><span>longitude_of_prime_meridian :</span></dt><dd>0.0</dd><dt><span>prime_meridian_name :</span></dt><dd>Greenwich</dd><dt><span>geographic_crs_name :</span></dt><dd>WGS 84</dd><dt><span>horizontal_datum_name :</span></dt><dd>World Geodetic System 1984</dd><dt><span>projected_crs_name :</span></dt><dd>WGS 84 / UTM zone 14N</dd><dt><span>grid_mapping_name :</span></dt><dd>transverse_mercator</dd><dt><span>latitude_of_projection_origin :</span></dt><dd>0.0</dd><dt><span>longitude_of_central_meridian :</span></dt><dd>-99.0</dd><dt><span>false_easting :</span></dt><dd>500000.0</dd><dt><span>false_northing :</span></dt><dd>0.0</dd><dt><span>scale_factor_at_central_meridian :</span></dt><dd>0.9996</dd><dt><span>spatial_ref :</span></dt><dd>PROJCS[&quot;WGS 84 / UTM zone 14N&quot;,GEOGCS[&quot;WGS 84&quot;,DATUM[&quot;WGS_1984&quot;,SPHEROID[&quot;WGS 84&quot;,6378137,298.257223563,AUTHORITY[&quot;EPSG&quot;,&quot;7030&quot;]],AUTHORITY[&quot;EPSG&quot;,&quot;6326&quot;]],PRIMEM[&quot;Greenwich&quot;,0,AUTHORITY[&quot;EPSG&quot;,&quot;8901&quot;]],UNIT[&quot;degree&quot;,0.0174532925199433,AUTHORITY[&quot;EPSG&quot;,&quot;9122&quot;]],AUTHORITY[&quot;EPSG&quot;,&quot;4326&quot;]],PROJECTION[&quot;Transverse_Mercator&quot;],PARAMETER[&quot;latitude_of_origin&quot;,0],PARAMETER[&quot;central_meridian&quot;,-99],PARAMETER[&quot;scale_factor&quot;,0.9996],PARAMETER[&quot;false_easting&quot;,500000],PARAMETER[&quot;false_northing&quot;,0],UNIT[&quot;metre&quot;,1,AUTHORITY[&quot;EPSG&quot;,&quot;9001&quot;]],AXIS[&quot;Easting&quot;,EAST],AXIS[&quot;Northing&quot;,NORTH],AUTHORITY[&quot;EPSG&quot;,&quot;32614&quot;]]</dd><dt><span>GeoTransform :</span></dt><dd>316455.0 10.0 0.0 4449735.0 0.0 -10.0</dd></dl></div><div class='xr-var-data'><pre>array(0)</pre></div></li></ul></div></li><li class='xr-section-item'><input id='section-71e56d56-a72d-4b1e-8628-fd231d1b1675' class='xr-section-summary-in' type='checkbox'  checked><label for='section-71e56d56-a72d-4b1e-8628-fd231d1b1675' class='xr-section-summary' >Attributes: <span>(3)</span></label><div class='xr-section-inline-details'></div><div class='xr-section-details'><dl class='xr-attrs'><dt><span>scale_factor :</span></dt><dd>1.0</dd><dt><span>add_offset :</span></dt><dd>0.0</dd><dt><span>long_name :</span></dt><dd>stackstac-2def63b493e1413ae9abc6d4d5850467</dd></dl></div></li></ul></div></div>"
      ],
      "text/plain": [
       "<xarray.DataArray (band: 16, y: 412, x: 793)>\n",
       "[5227456 values with dtype=float64]\n",
       "Coordinates:\n",
       "  * band         (band) int32 1 2 3 4 5 6 7 8 9 10 11 12 13 14 15 16\n",
       "  * x            (x) float64 3.165e+05 3.165e+05 ... 3.244e+05 3.244e+05\n",
       "  * y            (y) float64 4.45e+06 4.45e+06 4.45e+06 ... 4.446e+06 4.446e+06\n",
       "    spatial_ref  int32 0\n",
       "Attributes:\n",
       "    scale_factor:  1.0\n",
       "    add_offset:    0.0\n",
       "    long_name:     stackstac-2def63b493e1413ae9abc6d4d5850467"
      ]
     },
     "execution_count": 3,
     "metadata": {},
     "output_type": "execute_result"
    }
   ],
   "source": [
    "swanson_da"
   ]
  },
  {
   "cell_type": "code",
   "execution_count": 4,
   "id": "7619b7fd",
   "metadata": {},
   "outputs": [
    {
     "data": {
      "text/plain": [
       "<matplotlib.collections.QuadMesh at 0x2728d8ed5e0>"
      ]
     },
     "execution_count": 4,
     "metadata": {},
     "output_type": "execute_result"
    },
    {
     "data": {
      "image/png": "[encoded data removed]",
      "text/plain": [
       "<Figure size 432x288 with 2 Axes>"
      ]
     },
     "metadata": {
      "needs_background": "light"
     },
     "output_type": "display_data"
    }
   ],
   "source": [
    "swanson_da.sel(band=16).plot()"
   ]
  },
  {
   "cell_type": "code",
   "execution_count": 5,
   "id": "1c13546c",
   "metadata": {},
   "outputs": [],
   "source": [
    "swanson_da_numpy = swanson_da.copy().to_numpy()"
   ]
  },
  {
   "cell_type": "code",
   "execution_count": 6,
   "id": "3cb0c235",
   "metadata": {},
   "outputs": [
    {
     "data": {
      "text/plain": [
       "(16, 412, 793)"
      ]
     },
     "execution_count": 6,
     "metadata": {},
     "output_type": "execute_result"
    }
   ],
   "source": [
    "swanson_da_numpy.shape"
   ]
  },
  {
   "cell_type": "code",
   "execution_count": 7,
   "id": "66b762c1",
   "metadata": {},
   "outputs": [],
   "source": [
    "from sklearn.model_selection import train_test_split\n",
    "from sklearn.ensemble import RandomForestRegressor\n",
    "import numpy as np"
   ]
  },
  {
   "cell_type": "code",
   "execution_count": 8,
   "id": "1b9b4832",
   "metadata": {},
   "outputs": [],
   "source": [
    "rf = RandomForestRegressor(random_state=42)"
   ]
  },
  {
   "cell_type": "markdown",
   "id": "3ddfbacd",
   "metadata": {},
   "source": [
    "#### Shuffle the pixels the separate them into train set and test set"
   ]
  },
  {
   "cell_type": "code",
   "execution_count": 9,
   "id": "3e73c911",
   "metadata": {},
   "outputs": [],
   "source": [
    "lon_indices = list(range(swanson_da_numpy.shape[1]))"
   ]
  },
  {
   "cell_type": "code",
   "execution_count": 10,
   "id": "3e8021e4",
   "metadata": {},
   "outputs": [],
   "source": [
    "lat_indices = list(range(swanson_da_numpy.shape[2]))"
   ]
  },
  {
   "cell_type": "code",
   "execution_count": 11,
   "id": "41db087e",
   "metadata": {},
   "outputs": [],
   "source": [
    "train_lon_indices, test_lon_indices = train_test_split(lon_indices, test_size=0.2, random_state=42)"
   ]
  },
  {
   "cell_type": "code",
   "execution_count": 12,
   "id": "1e9d2dc5",
   "metadata": {},
   "outputs": [],
   "source": [
    "train_lat_indices, test_lat_indices = train_test_split(lat_indices, test_size=0.2, random_state=42)"
   ]
  },
  {
   "cell_type": "code",
   "execution_count": 13,
   "id": "9c5f6fae",
   "metadata": {},
   "outputs": [],
   "source": [
    "train = swanson_da_numpy[:,train_lon_indices, :]\n",
    "train = train[:,:,train_lat_indices]"
   ]
  },
  {
   "cell_type": "code",
   "execution_count": 14,
   "id": "ef41a9cc",
   "metadata": {},
   "outputs": [
    {
     "data": {
      "text/plain": [
       "(16, 329, 634)"
      ]
     },
     "execution_count": 14,
     "metadata": {},
     "output_type": "execute_result"
    }
   ],
   "source": [
    "train.shape"
   ]
  },
  {
   "cell_type": "code",
   "execution_count": 15,
   "id": "43a125d1",
   "metadata": {},
   "outputs": [],
   "source": [
    "test = swanson_da_numpy[:,test_lon_indices, :]\n",
    "test = test[:,:,test_lat_indices]"
   ]
  },
  {
   "cell_type": "code",
   "execution_count": 16,
   "id": "8da8f3c1",
   "metadata": {},
   "outputs": [
    {
     "data": {
      "text/plain": [
       "(16, 83, 159)"
      ]
     },
     "execution_count": 16,
     "metadata": {},
     "output_type": "execute_result"
    }
   ],
   "source": [
    "test.shape"
   ]
  },
  {
   "cell_type": "markdown",
   "id": "25decceb",
   "metadata": {},
   "source": [
    "#### target_train is the depth data for training, target_test is the depth data for testing"
   ]
  },
  {
   "cell_type": "code",
   "execution_count": 17,
   "id": "70e12e57",
   "metadata": {},
   "outputs": [],
   "source": [
    "target_train = train[15,:,:]\n",
    "target_test = test[15,:,:]"
   ]
  },
  {
   "cell_type": "code",
   "execution_count": 18,
   "id": "acb76bea",
   "metadata": {},
   "outputs": [
    {
     "data": {
      "text/plain": [
       "(83, 159)"
      ]
     },
     "execution_count": 18,
     "metadata": {},
     "output_type": "execute_result"
    }
   ],
   "source": [
    "target_test.shape"
   ]
  },
  {
   "cell_type": "code",
   "execution_count": 19,
   "id": "bfe3ca69",
   "metadata": {},
   "outputs": [
    {
     "data": {
      "text/plain": [
       "(329, 634)"
      ]
     },
     "execution_count": 19,
     "metadata": {},
     "output_type": "execute_result"
    }
   ],
   "source": [
    "target_train.shape"
   ]
  },
  {
   "cell_type": "code",
   "execution_count": 20,
   "id": "786174ac",
   "metadata": {},
   "outputs": [],
   "source": [
    "train_dropT = train[:15,:,:]\n",
    "test_dropT = test[:15,:,:]"
   ]
  },
  {
   "cell_type": "code",
   "execution_count": 21,
   "id": "90a5f48a",
   "metadata": {},
   "outputs": [
    {
     "data": {
      "text/plain": [
       "(15, 329, 634)"
      ]
     },
     "execution_count": 21,
     "metadata": {},
     "output_type": "execute_result"
    }
   ],
   "source": [
    "train_dropT.shape"
   ]
  },
  {
   "cell_type": "code",
   "execution_count": 22,
   "id": "6cc22e94",
   "metadata": {},
   "outputs": [
    {
     "data": {
      "text/plain": [
       "(329, 634)"
      ]
     },
     "execution_count": 22,
     "metadata": {},
     "output_type": "execute_result"
    }
   ],
   "source": [
    "target_train.shape"
   ]
  },
  {
   "cell_type": "markdown",
   "id": "6a676cf2",
   "metadata": {},
   "source": [
    "#### Reshape dimension to 2D due to acceptance of input format of RF model"
   ]
  },
  {
   "cell_type": "code",
   "execution_count": 23,
   "id": "ed7bfdc4",
   "metadata": {},
   "outputs": [],
   "source": [
    "train_dropT_2D = train_dropT.reshape((train_dropT.shape[0],train_dropT.shape[1]*train_dropT.shape[2]))"
   ]
  },
  {
   "cell_type": "code",
   "execution_count": 24,
   "id": "289d92ba",
   "metadata": {},
   "outputs": [],
   "source": [
    "target_train_1D = target_train.reshape(target_train.shape[0]*target_train.shape[1])"
   ]
  },
  {
   "cell_type": "markdown",
   "id": "20cffab7",
   "metadata": {},
   "source": [
    "#### Turn NaN into 0"
   ]
  },
  {
   "cell_type": "code",
   "execution_count": 25,
   "id": "9ed18248",
   "metadata": {},
   "outputs": [],
   "source": [
    "train_dropT_2D = np.nan_to_num(train_dropT_2D)"
   ]
  },
  {
   "cell_type": "code",
   "execution_count": 26,
   "id": "d7295600",
   "metadata": {},
   "outputs": [],
   "source": [
    "target_train_1D = np.nan_to_num(target_train_1D)"
   ]
  },
  {
   "cell_type": "code",
   "execution_count": 27,
   "id": "c1077ade",
   "metadata": {},
   "outputs": [
    {
     "data": {
      "text/plain": [
       "(208586, 15)"
      ]
     },
     "execution_count": 27,
     "metadata": {},
     "output_type": "execute_result"
    }
   ],
   "source": [
    "train_dropT_2D.transpose().shape"
   ]
  },
  {
   "cell_type": "code",
   "execution_count": 28,
   "id": "a2fa6283",
   "metadata": {},
   "outputs": [
    {
     "data": {
      "text/plain": [
       "(208586,)"
      ]
     },
     "execution_count": 28,
     "metadata": {},
     "output_type": "execute_result"
    }
   ],
   "source": [
    "target_train_1D.shape"
   ]
  },
  {
   "cell_type": "code",
   "execution_count": 29,
   "id": "a3d3d337",
   "metadata": {},
   "outputs": [],
   "source": [
    "rf_model = rf.fit(train_dropT_2D.transpose(), target_train_1D)"
   ]
  },
  {
   "cell_type": "code",
   "execution_count": 30,
   "id": "c0c80de0",
   "metadata": {},
   "outputs": [],
   "source": [
    "test_dropT = test_dropT.reshape((test_dropT.shape[0],test_dropT.shape[1]*test_dropT.shape[2]))"
   ]
  },
  {
   "cell_type": "code",
   "execution_count": 31,
   "id": "e0af25af",
   "metadata": {},
   "outputs": [],
   "source": [
    "test_dropT = np.nan_to_num(test_dropT)"
   ]
  },
  {
   "cell_type": "code",
   "execution_count": 32,
   "id": "eae3648c",
   "metadata": {},
   "outputs": [
    {
     "data": {
      "text/plain": [
       "array([ 4.70093808,  6.81482134,  9.60904321, ..., 10.36953627,\n",
       "        9.59239174,  9.72975539])"
      ]
     },
     "execution_count": 32,
     "metadata": {},
     "output_type": "execute_result"
    }
   ],
   "source": [
    "prediction = rf_model.predict(test_dropT.transpose())\n",
    "prediction"
   ]
  },
  {
   "cell_type": "code",
   "execution_count": 33,
   "id": "f9db449d",
   "metadata": {},
   "outputs": [
    {
     "data": {
      "text/plain": [
       "(15, 13197)"
      ]
     },
     "execution_count": 33,
     "metadata": {},
     "output_type": "execute_result"
    }
   ],
   "source": [
    "test_dropT.shape"
   ]
  },
  {
   "cell_type": "code",
   "execution_count": 34,
   "id": "53e9a883",
   "metadata": {},
   "outputs": [
    {
     "data": {
      "text/plain": [
       "(13197,)"
      ]
     },
     "execution_count": 34,
     "metadata": {},
     "output_type": "execute_result"
    }
   ],
   "source": [
    "prediction.shape"
   ]
  },
  {
   "cell_type": "code",
   "execution_count": 35,
   "id": "95f59234",
   "metadata": {},
   "outputs": [],
   "source": [
    "from sklearn.metrics import mean_absolute_error"
   ]
  },
  {
   "cell_type": "code",
   "execution_count": 36,
   "id": "1acc8706",
   "metadata": {},
   "outputs": [
    {
     "data": {
      "text/plain": [
       "(83, 159)"
      ]
     },
     "execution_count": 36,
     "metadata": {},
     "output_type": "execute_result"
    }
   ],
   "source": [
    "target_test.shape"
   ]
  },
  {
   "cell_type": "code",
   "execution_count": 37,
   "id": "9611d44b",
   "metadata": {},
   "outputs": [],
   "source": [
    "target_test = target_test.reshape(target_test.shape[0]*target_test.shape[1])"
   ]
  },
  {
   "cell_type": "code",
   "execution_count": 38,
   "id": "68daba11",
   "metadata": {},
   "outputs": [
    {
     "data": {
      "text/plain": [
       "array([ 4.8252019 ,  6.15383248,  7.97419216, ..., 11.35494534,\n",
       "        9.21741835, 10.19332787])"
      ]
     },
     "execution_count": 38,
     "metadata": {},
     "output_type": "execute_result"
    }
   ],
   "source": [
    "target_test = np.nan_to_num(target_test)\n",
    "target_test"
   ]
  },
  {
   "cell_type": "markdown",
   "id": "b2e85231",
   "metadata": {},
   "source": [
    "#### MAE is about 0.24m."
   ]
  },
  {
   "cell_type": "code",
   "execution_count": 39,
   "id": "eb594590",
   "metadata": {},
   "outputs": [
    {
     "data": {
      "text/plain": [
       "0.24440948682783492"
      ]
     },
     "execution_count": 39,
     "metadata": {},
     "output_type": "execute_result"
    }
   ],
   "source": [
    "mean_absolute_error(target_test, prediction)"
   ]
  },
  {
   "cell_type": "code",
   "execution_count": 40,
   "id": "55dfe432",
   "metadata": {},
   "outputs": [
    {
     "data": {
      "text/plain": [
       "(13197,)"
      ]
     },
     "execution_count": 40,
     "metadata": {},
     "output_type": "execute_result"
    }
   ],
   "source": [
    "target_test.shape"
   ]
  },
  {
   "cell_type": "code",
   "execution_count": 41,
   "id": "72d420ba",
   "metadata": {},
   "outputs": [],
   "source": [
    "#!pip install seaborn"
   ]
  },
  {
   "cell_type": "code",
   "execution_count": 42,
   "id": "50620780",
   "metadata": {},
   "outputs": [
    {
     "data": {
      "image/png": "[encoded data removed]",
      "text/plain": [
       "<Figure size 432x288 with 1 Axes>"
      ]
     },
     "metadata": {
      "needs_background": "light"
     },
     "output_type": "display_data"
    }
   ],
   "source": [
    "import matplotlib.pyplot as plt\n",
    "import seaborn as sns\n",
    "import pandas as pd\n",
    "\n",
    "df1 = pd.DataFrame(target_test)\n",
    "df2 = pd.DataFrame(prediction)\n",
    "\n",
    "data = pd.concat([df1, df2], axis=1)\n",
    "data.columns = [\"target_test\", \"prediction\"]\n",
    "\n",
    "sns.scatterplot(data = data, x = \"target_test\", y = \"prediction\")\n",
    "\n",
    "plt.show()"
   ]
  },
  {
   "cell_type": "code",
   "execution_count": 43,
   "id": "2ee4eee7",
   "metadata": {},
   "outputs": [],
   "source": [
    "data[\"diff\"] =  data[\"target_test\"] - data[\"prediction\"]"
   ]
  },
  {
   "cell_type": "code",
   "execution_count": 98,
   "id": "ab174ef4",
   "metadata": {},
   "outputs": [
    {
     "data": {
      "text/plain": [
       "[(0.0, 600.0)]"
      ]
     },
     "execution_count": 98,
     "metadata": {},
     "output_type": "execute_result"
    },
    {
     "data": {
      "image/png": "[encoded data removed]",
      "text/plain": [
       "<Figure size 432x288 with 1 Axes>"
      ]
     },
     "metadata": {
      "needs_background": "light"
     },
     "output_type": "display_data"
    }
   ],
   "source": [
    "df_mask=((data['diff'] <= -0.25) | (data['diff'] >= 0.25))\n",
    "#df_mask=(data['diff'] !=0)\n",
    "\n",
    "filtered_df = data[df_mask]\n",
    "\n",
    "ax = sns.histplot(data = data\n",
    "            ,x = 'diff'\n",
    "            ,alpha = 1\n",
    "            ,binwidth = 0.125\n",
    "            \n",
    "            )\n",
    "ax.set(ylim=(0, 600))"
   ]
  },
  {
   "cell_type": "code",
   "execution_count": 45,
   "id": "557af604",
   "metadata": {},
   "outputs": [
    {
     "data": {
      "text/plain": [
       "0        0.124264\n",
       "1       -0.660989\n",
       "2       -1.634851\n",
       "3        1.414702\n",
       "4       -1.208420\n",
       "           ...   \n",
       "13192    2.220553\n",
       "13193    1.708007\n",
       "13194    0.985409\n",
       "13195   -0.374973\n",
       "13196    0.463572\n",
       "Name: diff, Length: 13197, dtype: float64"
      ]
     },
     "execution_count": 45,
     "metadata": {},
     "output_type": "execute_result"
    }
   ],
   "source": [
    "data[\"diff\"]"
   ]
  },
  {
   "cell_type": "code",
   "execution_count": 46,
   "id": "77f29093",
   "metadata": {},
   "outputs": [
    {
     "name": "stdout",
     "output_type": "stream",
     "text": [
      "Requirement already satisfied: statsmodels in c:\\users\\ruedumidi_g\\anaconda3\\envs\\geemap_test\\lib\\site-packages (0.13.2)\n",
      "Requirement already satisfied: patsy>=0.5.2 in c:\\users\\ruedumidi_g\\anaconda3\\envs\\geemap_test\\lib\\site-packages (from statsmodels) (0.5.2)\n",
      "Requirement already satisfied: pandas>=0.25 in c:\\users\\ruedumidi_g\\anaconda3\\envs\\geemap_test\\lib\\site-packages (from statsmodels) (1.3.4)\n",
      "Requirement already satisfied: packaging>=21.3 in c:\\users\\ruedumidi_g\\anaconda3\\envs\\geemap_test\\lib\\site-packages (from statsmodels) (21.3)\n",
      "Requirement already satisfied: numpy>=1.17 in c:\\users\\ruedumidi_g\\anaconda3\\envs\\geemap_test\\lib\\site-packages (from statsmodels) (1.21.4)\n",
      "Requirement already satisfied: scipy>=1.3 in c:\\users\\ruedumidi_g\\appdata\\roaming\\python\\python38\\site-packages (from statsmodels) (1.6.3)\n",
      "Requirement already satisfied: pyparsing!=3.0.5,>=2.0.2 in c:\\users\\ruedumidi_g\\anaconda3\\envs\\geemap_test\\lib\\site-packages (from packaging>=21.3->statsmodels) (3.0.6)\n",
      "Requirement already satisfied: python-dateutil>=2.7.3 in c:\\users\\ruedumidi_g\\anaconda3\\envs\\geemap_test\\lib\\site-packages (from pandas>=0.25->statsmodels) (2.8.2)\n",
      "Requirement already satisfied: pytz>=2017.3 in c:\\users\\ruedumidi_g\\anaconda3\\envs\\geemap_test\\lib\\site-packages (from pandas>=0.25->statsmodels) (2021.3)\n",
      "Requirement already satisfied: six in c:\\users\\ruedumidi_g\\anaconda3\\envs\\geemap_test\\lib\\site-packages (from patsy>=0.5.2->statsmodels) (1.16.0)\n"
     ]
    }
   ],
   "source": [
    "!pip install statsmodels"
   ]
  },
  {
   "cell_type": "code",
   "execution_count": 47,
   "id": "d1f66008",
   "metadata": {},
   "outputs": [
    {
     "data": {
      "text/plain": [
       "[<matplotlib.lines.Line2D at 0x2729495fdf0>]"
      ]
     },
     "execution_count": 47,
     "metadata": {},
     "output_type": "execute_result"
    },
    {
     "data": {
      "image/png": "[encoded data removed]",
      "text/plain": [
       "<Figure size 432x288 with 1 Axes>"
      ]
     },
     "metadata": {
      "needs_background": "light"
     },
     "output_type": "display_data"
    }
   ],
   "source": [
    "from statsmodels.distributions.empirical_distribution import ECDF\n",
    "import matplotlib.pyplot as plt\n",
    "ecdf = ECDF(data[\"diff\"])\n",
    "plt.plot(ecdf.x, ecdf.y)"
   ]
  },
  {
   "cell_type": "code",
   "execution_count": 48,
   "id": "f964b13d",
   "metadata": {},
   "outputs": [],
   "source": [
    "data.loc[(data['diff'] >= -0.25) & (data['diff'] <= 0.25), 'class'] = \"1\""
   ]
  },
  {
   "cell_type": "code",
   "execution_count": 49,
   "id": "fdb2ddd0",
   "metadata": {},
   "outputs": [],
   "source": [
    "data[\"class\"] = data[\"class\"].fillna('0')"
   ]
  },
  {
   "cell_type": "code",
   "execution_count": 50,
   "id": "986bdda2",
   "metadata": {},
   "outputs": [
    {
     "data": {
      "text/plain": [
       "0    1\n",
       "1    0\n",
       "2    0\n",
       "3    0\n",
       "4    0\n",
       "5    0\n",
       "6    1\n",
       "7    0\n",
       "8    1\n",
       "9    1\n",
       "Name: class, dtype: object"
      ]
     },
     "execution_count": 50,
     "metadata": {},
     "output_type": "execute_result"
    }
   ],
   "source": [
    "data[\"class\"].head(10)"
   ]
  },
  {
   "cell_type": "code",
   "execution_count": 51,
   "id": "3a553bef",
   "metadata": {},
   "outputs": [
    {
     "data": {
      "text/plain": [
       "array([[ 348. ,  417. ,  442.5, ...,  326. ,  316.5,  336.5],\n",
       "       [ 426.5,  477. ,  505.5, ...,  449. ,  463. ,  453. ],\n",
       "       [ 596. ,  746. ,  730.5, ...,  693. ,  714.5,  714. ],\n",
       "       ...,\n",
       "       [ 179. ,  179. ,  179. , ...,  179. ,  179. ,  179. ],\n",
       "       [1043.5, 1003. , 1039. , ..., 1003. , 1003. , 1003. ],\n",
       "       [   6. ,    6. ,    6. , ...,    6. ,    6. ,    6. ]])"
      ]
     },
     "execution_count": 51,
     "metadata": {},
     "output_type": "execute_result"
    }
   ],
   "source": [
    "test_dropT"
   ]
  },
  {
   "cell_type": "code",
   "execution_count": 52,
   "id": "76b2ee7d",
   "metadata": {},
   "outputs": [],
   "source": [
    "X = test_dropT.transpose() #dataset.iloc[:, 0:4].values\n",
    "y = data[\"class\"] #dataset.iloc[:, 4].values"
   ]
  },
  {
   "cell_type": "code",
   "execution_count": 53,
   "id": "0c7ef86d",
   "metadata": {},
   "outputs": [],
   "source": [
    "from sklearn.model_selection import train_test_split\n",
    "\n",
    "X_train, X_test, y_train, y_test = train_test_split(X, y, test_size=0.2, random_state=0)"
   ]
  },
  {
   "cell_type": "code",
   "execution_count": 54,
   "id": "540a1d72",
   "metadata": {},
   "outputs": [],
   "source": [
    "# Feature Scaling\n",
    "from sklearn.preprocessing import StandardScaler\n",
    "\n",
    "sc = StandardScaler()\n",
    "X_train = sc.fit_transform(X_train)\n",
    "X_test = sc.transform(X_test)"
   ]
  },
  {
   "cell_type": "code",
   "execution_count": 55,
   "id": "9b417cfc",
   "metadata": {},
   "outputs": [],
   "source": [
    "from sklearn.ensemble import RandomForestClassifier\n",
    "\n",
    "classifier = RandomForestClassifier(n_estimators=20, random_state=0)\n",
    "classifier.fit(X_train, y_train)\n",
    "y_pred = classifier.predict(X_test)"
   ]
  },
  {
   "cell_type": "code",
   "execution_count": 56,
   "id": "30d51420",
   "metadata": {},
   "outputs": [
    {
     "name": "stdout",
     "output_type": "stream",
     "text": [
      "[[ 509   88]\n",
      " [ 183 1860]]\n",
      "              precision    recall  f1-score   support\n",
      "\n",
      "           0       0.74      0.85      0.79       597\n",
      "           1       0.95      0.91      0.93      2043\n",
      "\n",
      "    accuracy                           0.90      2640\n",
      "   macro avg       0.85      0.88      0.86      2640\n",
      "weighted avg       0.91      0.90      0.90      2640\n",
      "\n",
      "0.8973484848484848\n"
     ]
    }
   ],
   "source": [
    "from sklearn.metrics import classification_report, confusion_matrix, accuracy_score\n",
    "\n",
    "print(confusion_matrix(y_test,y_pred))\n",
    "print(classification_report(y_test,y_pred))\n",
    "print(accuracy_score(y_test, y_pred))"
   ]
  },
  {
   "cell_type": "code",
   "execution_count": 58,
   "id": "32c4496f",
   "metadata": {},
   "outputs": [],
   "source": [
    "train_probs = classifier.predict_proba(X_train)[:,1] \n",
    "probs = classifier.predict_proba(X_test)[:, 1]\n",
    "train_predictions = classifier.predict(X_train)"
   ]
  },
  {
   "cell_type": "code",
   "execution_count": 60,
   "id": "1a925bf7",
   "metadata": {},
   "outputs": [
    {
     "name": "stdout",
     "output_type": "stream",
     "text": [
      "Train ROC AUC Score: 0.9999958447831252\n",
      "Test ROC AUC  Score: 0.9510691817711499\n"
     ]
    }
   ],
   "source": [
    "from sklearn.metrics import accuracy_score, confusion_matrix, precision_score, recall_score, roc_auc_score, roc_curve, f1_score\n",
    "#Source: \n",
    "#   https://towardsdatascience.com/my-random-forest-classifier-cheat-sheet-in-python-fedb84f8cf4f\n",
    "#   https://machinelearningmastery.com/roc-curves-and-precision-recall-curves-for-classification-in-python/\n",
    "\n",
    "\n",
    "print(f'Train ROC AUC Score: {roc_auc_score(y_train, train_probs)}')\n",
    "print(f'Test ROC AUC  Score: {roc_auc_score(y_test, probs)}')"
   ]
  },
  {
   "cell_type": "code",
   "execution_count": 90,
   "id": "57f92698",
   "metadata": {},
   "outputs": [
    {
     "name": "stdout",
     "output_type": "stream",
     "text": [
      "f'{metric.capitalize()} \n",
      "                 Baseline: {round(baseline[metric], 2)} \n",
      "                 Test: {round(results[metric], 2)} \n",
      "                 Train: {round(train_results[metric], 2)}\n",
      "f'{metric.capitalize()} \n",
      "                 Baseline: {round(baseline[metric], 2)} \n",
      "                 Test: {round(results[metric], 2)} \n",
      "                 Train: {round(train_results[metric], 2)}\n",
      "f'{metric.capitalize()} \n",
      "                 Baseline: {round(baseline[metric], 2)} \n",
      "                 Test: {round(results[metric], 2)} \n",
      "                 Train: {round(train_results[metric], 2)}\n"
     ]
    },
    {
     "data": {
      "image/png": "[encoded data removed]",
      "text/plain": [
       "<Figure size 576x432 with 1 Axes>"
      ]
     },
     "metadata": {
      "needs_background": "light"
     },
     "output_type": "display_data"
    }
   ],
   "source": [
    "def evaluate_model(y_pred, probs,train_predictions, train_probs):\n",
    "    y_test = y_test.astype(int)\n",
    "    y_pred = y_pred.astype(int)\n",
    "    \n",
    "    baseline = {}\n",
    "    baseline['recall']=recall_score(y_test,\n",
    "                    [1 for _ in range(len(y_test))])\n",
    "    baseline['precision'] = precision_score(y_test,\n",
    "                    [1 for _ in range(len(y_test))])\n",
    "    baseline['roc'] = 0.5\n",
    "    \n",
    "    results = {}\n",
    "    results['recall'] = recall_score(y_test, y_pred)\n",
    "    results['precision'] = precision_score(y_test, y_pred)\n",
    "    results['roc'] = roc_auc_score(y_test, probs)\n",
    "    train_results = {}\n",
    "    train_results['recall'] = recall_score(y_train, train_predictions, pos_label='0')\n",
    "    train_results['precision'] = precision_score(y_train, train_predictions, pos_label='0')\n",
    "    train_results['roc'] = roc_auc_score(y_train, train_probs)\n",
    "    \n",
    "    for metric in ['recall', 'precision', 'roc']:  \n",
    "          print('''f'{metric.capitalize()} \n",
    "                 Baseline: {round(baseline[metric], 2)} \n",
    "                 Test: {round(results[metric], 2)} \n",
    "                 Train: {round(train_results[metric], 2)}''')\n",
    "    \n",
    "    # Calculate false positive rates and true positive rates\n",
    "    base_fpr, base_tpr, _ = roc_curve(y_test, [1 for _ in range(len(y_test))])\n",
    "    model_fpr, model_tpr, _ = roc_curve(y_test, probs)\n",
    "    plt.figure(figsize = (8, 6))\n",
    "    plt.rcParams['font.size'] = 16\n",
    "    \n",
    "    # Plot both curves\n",
    "    plt.plot(base_fpr, base_tpr, 'b', label = 'baseline')\n",
    "    plt.plot(model_fpr, model_tpr, 'r', label = 'model')\n",
    "    plt.legend();\n",
    "    plt.xlabel('False Positive Rate');\n",
    "    plt.ylabel('True Positive Rate'); plt.title('ROC Curves');\n",
    "    plt.show();\n",
    "\n",
    "    \n",
    "evaluate_model(y_pred, probs, train_predictions, train_probs)\n"
   ]
  },
  {
   "cell_type": "code",
   "execution_count": 88,
   "id": "b362e17f",
   "metadata": {},
   "outputs": [
    {
     "data": {
      "image/png": "[encoded data removed]",
      "text/plain": [
       "<Figure size 720x720 with 2 Axes>"
      ]
     },
     "metadata": {
      "needs_background": "light"
     },
     "output_type": "display_data"
    }
   ],
   "source": [
    "import itertools\n",
    "def plot_confusion_matrix(cm, classes, normalize = False,\n",
    "                          title='Confusion matrix',\n",
    "                          cmap=plt.cm.Greens): # can change color \n",
    "    plt.figure(figsize = (10, 10))\n",
    "    plt.imshow(cm, interpolation='nearest', cmap=cmap)\n",
    "    plt.title(title, size = 34)\n",
    "    plt.colorbar(aspect=4)\n",
    "    tick_marks = np.arange(len(classes))\n",
    "    #plt.xticks(tick_marks, classes, rotation=45, size = 14)\n",
    "    plt.xticks(tick_marks, classes, rotation=45, size = 20)\n",
    "    #plt.yticks(tick_marks, classes, size = 14)\n",
    "    plt.yticks(tick_marks, classes, size = 20)\n",
    "    fmt = '.2f' if normalize else 'd'\n",
    "    thresh = cm.max() / 2.\n",
    "    # Label the plot\n",
    "    for i, j in itertools.product(range(cm.shape[0]),   range(cm.shape[1])):\n",
    "        plt.text(j, i, format(cm[i, j], fmt), \n",
    "            #fontsize = 20,\n",
    "            fontsize = 30,\n",
    "            horizontalalignment=\"center\",\n",
    "            color=\"white\" if cm[i, j] > thresh else \"black\")\n",
    "        plt.grid(None)\n",
    "        plt.tight_layout()\n",
    "        #plt.ylabel('True label', size = 18)\n",
    "        #plt.xlabel('Predicted label', size = 18)\n",
    "        plt.ylabel('True label', size = 25)\n",
    "        plt.xlabel('Predicted label', size = 24)\n",
    "\n",
    "# Let's plot it out\n",
    "cm = confusion_matrix(y_test, y_pred)\n",
    "#plot_confusion_matrix(cm, classes = ['0 - \\nHigh Difference', '1 - \\nAccepted Depth \\nDifference'],\n",
    "#                      title = 'Testing the Depth Confusion Matrix')\n",
    "plot_confusion_matrix(cm, classes = ['0', '1'],\n",
    "                      title = 'Testing the Depth Confusion Matrix')\n",
    "\n"
   ]
  },
  {
   "cell_type": "code",
   "execution_count": null,
   "id": "6d303f46",
   "metadata": {},
   "outputs": [],
   "source": []
  },
  {
   "cell_type": "code",
   "execution_count": null,
   "id": "9469a49e",
   "metadata": {},
   "outputs": [],
   "source": []
  },
  {
   "cell_type": "code",
   "execution_count": null,
   "id": "ac40e0fe",
   "metadata": {},
   "outputs": [],
   "source": []
  },
  {
   "cell_type": "code",
   "execution_count": null,
   "id": "cd03c95c",
   "metadata": {},
   "outputs": [],
   "source": []
  },
  {
   "cell_type": "code",
   "execution_count": null,
   "id": "84c35a63",
   "metadata": {},
   "outputs": [],
   "source": []
  },
  {
   "cell_type": "code",
   "execution_count": null,
   "id": "165b39ce",
   "metadata": {},
   "outputs": [],
   "source": []
  },
  {
   "cell_type": "code",
   "execution_count": null,
   "id": "b6dbd00d",
   "metadata": {},
   "outputs": [],
   "source": []
  },
  {
   "cell_type": "code",
   "execution_count": null,
   "id": "ad6fa20a",
   "metadata": {},
   "outputs": [],
   "source": []
  },
  {
   "cell_type": "code",
   "execution_count": null,
   "id": "8a8d4858",
   "metadata": {},
   "outputs": [],
   "source": []
  },
  {
   "cell_type": "code",
   "execution_count": null,
   "id": "850a06a8",
   "metadata": {},
   "outputs": [],
   "source": []
  },
  {
   "cell_type": "code",
   "execution_count": null,
   "id": "4501b5c3",
   "metadata": {},
   "outputs": [],
   "source": []
  },
  {
   "cell_type": "code",
   "execution_count": null,
   "id": "26c5607e",
   "metadata": {},
   "outputs": [],
   "source": []
  },
  {
   "cell_type": "code",
   "execution_count": null,
   "id": "5ec7b7d6",
   "metadata": {},
   "outputs": [],
   "source": []
  },
  {
   "cell_type": "code",
   "execution_count": null,
   "id": "21b17729",
   "metadata": {},
   "outputs": [],
   "source": []
  }
 ],
 "metadata": {
  "kernelspec": {
   "display_name": "Python 3 (ipykernel)",
   "language": "python",
   "name": "python3"
  },
  "language_info": {
   "codemirror_mode": {
    "name": "ipython",
    "version": 3
   },
   "file_extension": ".py",
   "mimetype": "text/x-python",
   "name": "python",
   "nbconvert_exporter": "python",
   "pygments_lexer": "ipython3",
   "version": "3.8.12"
  },
  "toc": {
   "base_numbering": 1,
   "nav_menu": {},
   "number_sections": true,
   "sideBar": true,
   "skip_h1_title": false,
   "title_cell": "Table of Contents",
   "title_sidebar": "Contents",
   "toc_cell": false,
   "toc_position": {},
   "toc_section_display": true,
   "toc_window_display": false
  }
 },
 "nbformat": 4,
 "nbformat_minor": 5
}
