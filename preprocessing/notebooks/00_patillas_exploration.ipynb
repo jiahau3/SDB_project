{
 "cells": [
  {
   "cell_type": "markdown",
   "metadata": {},
   "source": [
    "# Exploring vector data and finding bounding boxes"
   ]
  },
  {
   "cell_type": "code",
   "execution_count": 5,
   "metadata": {},
   "outputs": [],
   "source": [
    "import matplotlib.pyplot as plt\n",
    "%matplotlib inline\n",
    "\n",
    "import geopandas as gpd\n",
    "\n",
    "from shapely.geometry import box"
   ]
  },
  {
   "cell_type": "markdown",
   "metadata": {},
   "source": [
    "In this exploration I wanted to start with the extent and the location of the Lago Patillas because I have a good bathymetry map for it. How to come to this data and how you would create a high-quality bathymetry map from survey data [here](https://hatarilabs.com/ih-en/how-to-make-a-lake-bathymetric-map-with-qgis-tutorial)."
   ]
  },
  {
   "cell_type": "code",
   "execution_count": 6,
   "metadata": {},
   "outputs": [
    {
     "data": {
      "text/html": [
       "<div>\n",
       "<style scoped>\n",
       "    .dataframe tbody tr th:only-of-type {\n",
       "        vertical-align: middle;\n",
       "    }\n",
       "\n",
       "    .dataframe tbody tr th {\n",
       "        vertical-align: top;\n",
       "    }\n",
       "\n",
       "    .dataframe thead th {\n",
       "        text-align: right;\n",
       "    }\n",
       "</style>\n",
       "<table border=\"1\" class=\"dataframe\">\n",
       "  <thead>\n",
       "    <tr style=\"text-align: right;\">\n",
       "      <th></th>\n",
       "      <th>Elevation</th>\n",
       "      <th>geometry</th>\n",
       "    </tr>\n",
       "  </thead>\n",
       "  <tbody>\n",
       "    <tr>\n",
       "      <th>0</th>\n",
       "      <td>67.55</td>\n",
       "      <td>POINT (242914.395 221850.983)</td>\n",
       "    </tr>\n",
       "    <tr>\n",
       "      <th>1</th>\n",
       "      <td>67.55</td>\n",
       "      <td>POINT (242914.450 221850.883)</td>\n",
       "    </tr>\n",
       "    <tr>\n",
       "      <th>2</th>\n",
       "      <td>67.55</td>\n",
       "      <td>POINT (242915.020 221849.633)</td>\n",
       "    </tr>\n",
       "    <tr>\n",
       "      <th>3</th>\n",
       "      <td>67.55</td>\n",
       "      <td>POINT (242915.142 221849.440)</td>\n",
       "    </tr>\n",
       "    <tr>\n",
       "      <th>4</th>\n",
       "      <td>67.55</td>\n",
       "      <td>POINT (242915.190 221849.146)</td>\n",
       "    </tr>\n",
       "    <tr>\n",
       "      <th>...</th>\n",
       "      <td>...</td>\n",
       "      <td>...</td>\n",
       "    </tr>\n",
       "    <tr>\n",
       "      <th>39294</th>\n",
       "      <td>67.55</td>\n",
       "      <td>POINT (242913.331 221850.957)</td>\n",
       "    </tr>\n",
       "    <tr>\n",
       "      <th>39295</th>\n",
       "      <td>67.55</td>\n",
       "      <td>POINT (242913.330 221851.001)</td>\n",
       "    </tr>\n",
       "    <tr>\n",
       "      <th>39296</th>\n",
       "      <td>67.55</td>\n",
       "      <td>POINT (242914.326 221850.977)</td>\n",
       "    </tr>\n",
       "    <tr>\n",
       "      <th>39297</th>\n",
       "      <td>67.55</td>\n",
       "      <td>POINT (242914.365 221851.108)</td>\n",
       "    </tr>\n",
       "    <tr>\n",
       "      <th>39298</th>\n",
       "      <td>67.55</td>\n",
       "      <td>POINT (242914.395 221850.983)</td>\n",
       "    </tr>\n",
       "  </tbody>\n",
       "</table>\n",
       "<p>39299 rows × 2 columns</p>\n",
       "</div>"
      ],
      "text/plain": [
       "       Elevation                       geometry\n",
       "0          67.55  POINT (242914.395 221850.983)\n",
       "1          67.55  POINT (242914.450 221850.883)\n",
       "2          67.55  POINT (242915.020 221849.633)\n",
       "3          67.55  POINT (242915.142 221849.440)\n",
       "4          67.55  POINT (242915.190 221849.146)\n",
       "...          ...                            ...\n",
       "39294      67.55  POINT (242913.331 221850.957)\n",
       "39295      67.55  POINT (242913.330 221851.001)\n",
       "39296      67.55  POINT (242914.326 221850.977)\n",
       "39297      67.55  POINT (242914.365 221851.108)\n",
       "39298      67.55  POINT (242914.395 221850.983)\n",
       "\n",
       "[39299 rows x 2 columns]"
      ]
     },
     "execution_count": 6,
     "metadata": {},
     "output_type": "execute_result"
    }
   ],
   "source": [
    "patillas_shoreline = gpd.read_file('../data/patillas_sample/vector/patillas_shoreline.shp')\n",
    "patillas_shoreline"
   ]
  },
  {
   "cell_type": "markdown",
   "metadata": {},
   "source": [
    "One of the reasons I work with GeoPandas is that it know how to work with geographical data. For instance it knows how to handle CRS information which helps when switching between different projections."
   ]
  },
  {
   "cell_type": "code",
   "execution_count": 7,
   "metadata": {},
   "outputs": [
    {
     "data": {
      "text/plain": [
       "<Projected CRS: EPSG:6566>\n",
       "Name: NAD83(2011) / Puerto Rico and Virgin Is.\n",
       "Axis Info [cartesian]:\n",
       "- X[east]: Easting (metre)\n",
       "- Y[north]: Northing (metre)\n",
       "Area of Use:\n",
       "- name: Puerto Rico and US Virgin Islands - onshore.\n",
       "- bounds: (-67.97, 17.62, -64.51, 18.57)\n",
       "Coordinate Operation:\n",
       "- name: SPCS83 Puerto Rico & Virgin Islands zone (meters)\n",
       "- method: Lambert Conic Conformal (2SP)\n",
       "Datum: NAD83 (National Spatial Reference System 2011)\n",
       "- Ellipsoid: GRS 1980\n",
       "- Prime Meridian: Greenwich"
      ]
     },
     "execution_count": 7,
     "metadata": {},
     "output_type": "execute_result"
    }
   ],
   "source": [
    "patillas_shoreline.crs"
   ]
  },
  {
   "cell_type": "markdown",
   "metadata": {},
   "source": [
    "Also, GeoPandas has easy to use interfaces for plotting."
   ]
  },
  {
   "cell_type": "code",
   "execution_count": 8,
   "metadata": {},
   "outputs": [
    {
     "data": {
      "image/png": "[encoded data removed]",
      "text/plain": [
       "<Figure size 720x720 with 1 Axes>"
      ]
     },
     "metadata": {
      "needs_background": "light"
     },
     "output_type": "display_data"
    }
   ],
   "source": [
    "_, ax = plt.subplots(figsize=(10, 10))\n",
    "patillas_shoreline.plot(ax=ax)\n",
    "plt.show()"
   ]
  },
  {
   "cell_type": "code",
   "execution_count": 9,
   "metadata": {},
   "outputs": [
    {
     "data": {
      "text/html": [
       "<div>\n",
       "<style scoped>\n",
       "    .dataframe tbody tr th:only-of-type {\n",
       "        vertical-align: middle;\n",
       "    }\n",
       "\n",
       "    .dataframe tbody tr th {\n",
       "        vertical-align: top;\n",
       "    }\n",
       "\n",
       "    .dataframe thead th {\n",
       "        text-align: right;\n",
       "    }\n",
       "</style>\n",
       "<table border=\"1\" class=\"dataframe\">\n",
       "  <thead>\n",
       "    <tr style=\"text-align: right;\">\n",
       "      <th></th>\n",
       "      <th>minx</th>\n",
       "      <th>miny</th>\n",
       "      <th>maxx</th>\n",
       "      <th>maxy</th>\n",
       "    </tr>\n",
       "  </thead>\n",
       "  <tbody>\n",
       "    <tr>\n",
       "      <th>0</th>\n",
       "      <td>242914.3950</td>\n",
       "      <td>221850.9833</td>\n",
       "      <td>242914.3950</td>\n",
       "      <td>221850.9833</td>\n",
       "    </tr>\n",
       "    <tr>\n",
       "      <th>1</th>\n",
       "      <td>242914.4503</td>\n",
       "      <td>221850.8834</td>\n",
       "      <td>242914.4503</td>\n",
       "      <td>221850.8834</td>\n",
       "    </tr>\n",
       "    <tr>\n",
       "      <th>2</th>\n",
       "      <td>242915.0200</td>\n",
       "      <td>221849.6333</td>\n",
       "      <td>242915.0200</td>\n",
       "      <td>221849.6333</td>\n",
       "    </tr>\n",
       "    <tr>\n",
       "      <th>3</th>\n",
       "      <td>242915.1421</td>\n",
       "      <td>221849.4396</td>\n",
       "      <td>242915.1421</td>\n",
       "      <td>221849.4396</td>\n",
       "    </tr>\n",
       "    <tr>\n",
       "      <th>4</th>\n",
       "      <td>242915.1898</td>\n",
       "      <td>221849.1457</td>\n",
       "      <td>242915.1898</td>\n",
       "      <td>221849.1457</td>\n",
       "    </tr>\n",
       "    <tr>\n",
       "      <th>...</th>\n",
       "      <td>...</td>\n",
       "      <td>...</td>\n",
       "      <td>...</td>\n",
       "      <td>...</td>\n",
       "    </tr>\n",
       "    <tr>\n",
       "      <th>39294</th>\n",
       "      <td>242913.3310</td>\n",
       "      <td>221850.9572</td>\n",
       "      <td>242913.3310</td>\n",
       "      <td>221850.9572</td>\n",
       "    </tr>\n",
       "    <tr>\n",
       "      <th>39295</th>\n",
       "      <td>242913.3304</td>\n",
       "      <td>221851.0015</td>\n",
       "      <td>242913.3304</td>\n",
       "      <td>221851.0015</td>\n",
       "    </tr>\n",
       "    <tr>\n",
       "      <th>39296</th>\n",
       "      <td>242914.3260</td>\n",
       "      <td>221850.9771</td>\n",
       "      <td>242914.3260</td>\n",
       "      <td>221850.9771</td>\n",
       "    </tr>\n",
       "    <tr>\n",
       "      <th>39297</th>\n",
       "      <td>242914.3653</td>\n",
       "      <td>221851.1084</td>\n",
       "      <td>242914.3653</td>\n",
       "      <td>221851.1084</td>\n",
       "    </tr>\n",
       "    <tr>\n",
       "      <th>39298</th>\n",
       "      <td>242914.3950</td>\n",
       "      <td>221850.9833</td>\n",
       "      <td>242914.3950</td>\n",
       "      <td>221850.9833</td>\n",
       "    </tr>\n",
       "  </tbody>\n",
       "</table>\n",
       "<p>39299 rows × 4 columns</p>\n",
       "</div>"
      ],
      "text/plain": [
       "              minx         miny         maxx         maxy\n",
       "0      242914.3950  221850.9833  242914.3950  221850.9833\n",
       "1      242914.4503  221850.8834  242914.4503  221850.8834\n",
       "2      242915.0200  221849.6333  242915.0200  221849.6333\n",
       "3      242915.1421  221849.4396  242915.1421  221849.4396\n",
       "4      242915.1898  221849.1457  242915.1898  221849.1457\n",
       "...            ...          ...          ...          ...\n",
       "39294  242913.3310  221850.9572  242913.3310  221850.9572\n",
       "39295  242913.3304  221851.0015  242913.3304  221851.0015\n",
       "39296  242914.3260  221850.9771  242914.3260  221850.9771\n",
       "39297  242914.3653  221851.1084  242914.3653  221851.1084\n",
       "39298  242914.3950  221850.9833  242914.3950  221850.9833\n",
       "\n",
       "[39299 rows x 4 columns]"
      ]
     },
     "execution_count": 9,
     "metadata": {},
     "output_type": "execute_result"
    }
   ],
   "source": [
    "patillas_shoreline.bounds"
   ]
  },
  {
   "cell_type": "markdown",
   "metadata": {},
   "source": [
    "I created a little helper function to get a simple box geometry around all the elements within a geopandas frame. I use this because querying the sentinel API shouldn't be done with an easy \"footprint\" (not too many nodes in the geometry)."
   ]
  },
  {
   "cell_type": "code",
   "execution_count": 10,
   "metadata": {},
   "outputs": [],
   "source": [
    "def get_bounding_box(gpd_object, buffer_size=0):\n",
    "    \"\"\"\n",
    "    Returns the bounding box of a geopandas object\n",
    "\n",
    "    Parameters\n",
    "    ----------\n",
    "    gpd_object : geopandas object\n",
    "        The geopandas object to get the bounding box of\n",
    "    buffer_size : int\n",
    "        The buffer size to add to the bounding box\n",
    "\n",
    "    Returns\n",
    "    -------\n",
    "    bounding_box : geopandas series\n",
    "        The bounding box of the geopandas object\n",
    "    \"\"\"\n",
    "    minx, miny, maxx, maxy = gpd_object.bounds.values.ravel().tolist()\n",
    "    minx, miny, maxx, maxy = minx - buffer_size, miny - buffer_size, maxx + buffer_size, maxy + buffer_size\n",
    "    bounding_poly = box(minx, miny, maxx, maxy)\n",
    "    bounding_series = gpd.GeoSeries([bounding_poly], crs=gpd_object.crs)\n",
    "\n",
    "    return bounding_series"
   ]
  },
  {
   "cell_type": "code",
   "execution_count": 11,
   "metadata": {},
   "outputs": [
    {
     "ename": "ValueError",
     "evalue": "too many values to unpack (expected 4)",
     "output_type": "error",
     "traceback": [
      "\u001b[1;31m---------------------------------------------------------------------------\u001b[0m",
      "\u001b[1;31mValueError\u001b[0m                                Traceback (most recent call last)",
      "\u001b[1;32m~\\AppData\\Local\\Temp/ipykernel_13624/3469945788.py\u001b[0m in \u001b[0;36m<module>\u001b[1;34m\u001b[0m\n\u001b[1;32m----> 1\u001b[1;33m \u001b[0mbounding_box\u001b[0m \u001b[1;33m=\u001b[0m \u001b[0mget_bounding_box\u001b[0m\u001b[1;33m(\u001b[0m\u001b[0mpatillas_shoreline\u001b[0m\u001b[1;33m,\u001b[0m \u001b[0mbuffer_size\u001b[0m\u001b[1;33m=\u001b[0m\u001b[1;36m100\u001b[0m\u001b[1;33m)\u001b[0m\u001b[1;33m\u001b[0m\u001b[1;33m\u001b[0m\u001b[0m\n\u001b[0m\u001b[0;32m      2\u001b[0m \u001b[1;33m\u001b[0m\u001b[0m\n\u001b[0;32m      3\u001b[0m \u001b[0m_\u001b[0m\u001b[1;33m,\u001b[0m \u001b[0max\u001b[0m \u001b[1;33m=\u001b[0m \u001b[0mplt\u001b[0m\u001b[1;33m.\u001b[0m\u001b[0msubplots\u001b[0m\u001b[1;33m(\u001b[0m\u001b[0mfigsize\u001b[0m\u001b[1;33m=\u001b[0m\u001b[1;33m(\u001b[0m\u001b[1;36m10\u001b[0m\u001b[1;33m,\u001b[0m \u001b[1;36m10\u001b[0m\u001b[1;33m)\u001b[0m\u001b[1;33m)\u001b[0m\u001b[1;33m\u001b[0m\u001b[1;33m\u001b[0m\u001b[0m\n\u001b[0;32m      4\u001b[0m \u001b[0mbounding_box\u001b[0m\u001b[1;33m.\u001b[0m\u001b[0mplot\u001b[0m\u001b[1;33m(\u001b[0m\u001b[0max\u001b[0m\u001b[1;33m=\u001b[0m\u001b[0max\u001b[0m\u001b[1;33m,\u001b[0m \u001b[0mcolor\u001b[0m\u001b[1;33m=\u001b[0m\u001b[1;34m\"red\"\u001b[0m\u001b[1;33m)\u001b[0m\u001b[1;33m\u001b[0m\u001b[1;33m\u001b[0m\u001b[0m\n\u001b[0;32m      5\u001b[0m \u001b[0mpatillas_shoreline\u001b[0m\u001b[1;33m.\u001b[0m\u001b[0mplot\u001b[0m\u001b[1;33m(\u001b[0m\u001b[0max\u001b[0m\u001b[1;33m=\u001b[0m\u001b[0max\u001b[0m\u001b[1;33m)\u001b[0m\u001b[1;33m\u001b[0m\u001b[1;33m\u001b[0m\u001b[0m\n",
      "\u001b[1;32m~\\AppData\\Local\\Temp/ipykernel_13624/584531771.py\u001b[0m in \u001b[0;36mget_bounding_box\u001b[1;34m(gpd_object, buffer_size)\u001b[0m\n\u001b[0;32m     15\u001b[0m         \u001b[0mThe\u001b[0m \u001b[0mbounding\u001b[0m \u001b[0mbox\u001b[0m \u001b[0mof\u001b[0m \u001b[0mthe\u001b[0m \u001b[0mgeopandas\u001b[0m \u001b[0mobject\u001b[0m\u001b[1;33m\u001b[0m\u001b[1;33m\u001b[0m\u001b[0m\n\u001b[0;32m     16\u001b[0m     \"\"\"\n\u001b[1;32m---> 17\u001b[1;33m     \u001b[0mminx\u001b[0m\u001b[1;33m,\u001b[0m \u001b[0mminy\u001b[0m\u001b[1;33m,\u001b[0m \u001b[0mmaxx\u001b[0m\u001b[1;33m,\u001b[0m \u001b[0mmaxy\u001b[0m \u001b[1;33m=\u001b[0m \u001b[0mgpd_object\u001b[0m\u001b[1;33m.\u001b[0m\u001b[0mbounds\u001b[0m\u001b[1;33m.\u001b[0m\u001b[0mvalues\u001b[0m\u001b[1;33m.\u001b[0m\u001b[0mravel\u001b[0m\u001b[1;33m(\u001b[0m\u001b[1;33m)\u001b[0m\u001b[1;33m.\u001b[0m\u001b[0mtolist\u001b[0m\u001b[1;33m(\u001b[0m\u001b[1;33m)\u001b[0m\u001b[1;33m\u001b[0m\u001b[1;33m\u001b[0m\u001b[0m\n\u001b[0m\u001b[0;32m     18\u001b[0m     \u001b[0mminx\u001b[0m\u001b[1;33m,\u001b[0m \u001b[0mminy\u001b[0m\u001b[1;33m,\u001b[0m \u001b[0mmaxx\u001b[0m\u001b[1;33m,\u001b[0m \u001b[0mmaxy\u001b[0m \u001b[1;33m=\u001b[0m \u001b[0mminx\u001b[0m \u001b[1;33m-\u001b[0m \u001b[0mbuffer_size\u001b[0m\u001b[1;33m,\u001b[0m \u001b[0mminy\u001b[0m \u001b[1;33m-\u001b[0m \u001b[0mbuffer_size\u001b[0m\u001b[1;33m,\u001b[0m \u001b[0mmaxx\u001b[0m \u001b[1;33m+\u001b[0m \u001b[0mbuffer_size\u001b[0m\u001b[1;33m,\u001b[0m \u001b[0mmaxy\u001b[0m \u001b[1;33m+\u001b[0m \u001b[0mbuffer_size\u001b[0m\u001b[1;33m\u001b[0m\u001b[1;33m\u001b[0m\u001b[0m\n\u001b[0;32m     19\u001b[0m     \u001b[0mbounding_poly\u001b[0m \u001b[1;33m=\u001b[0m \u001b[0mbox\u001b[0m\u001b[1;33m(\u001b[0m\u001b[0mminx\u001b[0m\u001b[1;33m,\u001b[0m \u001b[0mminy\u001b[0m\u001b[1;33m,\u001b[0m \u001b[0mmaxx\u001b[0m\u001b[1;33m,\u001b[0m \u001b[0mmaxy\u001b[0m\u001b[1;33m)\u001b[0m\u001b[1;33m\u001b[0m\u001b[1;33m\u001b[0m\u001b[0m\n",
      "\u001b[1;31mValueError\u001b[0m: too many values to unpack (expected 4)"
     ]
    }
   ],
   "source": [
    "bounding_box = get_bounding_box(patillas_shoreline, buffer_size=100)\n",
    "\n",
    "_, ax = plt.subplots(figsize=(10, 10))\n",
    "bounding_box.plot(ax=ax, color=\"red\")\n",
    "patillas_shoreline.plot(ax=ax)\n",
    "plt.show()"
   ]
  },
  {
   "cell_type": "markdown",
   "metadata": {},
   "source": [
    "# Exploring bathymetry map"
   ]
  },
  {
   "cell_type": "code",
   "execution_count": null,
   "metadata": {},
   "outputs": [],
   "source": [
    "import rasterio as rio\n",
    "from rasterio.plot import plotting_extent\n",
    "\n",
    "import earthpy as et\n",
    "import earthpy.plot as ep\n",
    "import earthpy.spatial as es"
   ]
  },
  {
   "cell_type": "markdown",
   "metadata": {},
   "source": [
    "The already existing hiqh-quality bathymetry map can be explored using rasterio."
   ]
  },
  {
   "cell_type": "code",
   "execution_count": null,
   "metadata": {},
   "outputs": [],
   "source": [
    "with rio.open('../data/patillas_sample/raster/lake_depth.tif') as src:\n",
    "    bathymetry_map = src.read(masked=True)[0]\n",
    "    extent = plotting_extent(src)\n",
    "    soap_profile = src.profile"
   ]
  },
  {
   "cell_type": "code",
   "execution_count": null,
   "metadata": {},
   "outputs": [],
   "source": [
    "ep.plot_bands(bathymetry_map,\n",
    "               cmap='Blues',\n",
    "               extent=extent,\n",
    "               cbar=True);"
   ]
  },
  {
   "cell_type": "markdown",
   "metadata": {},
   "source": [
    "# Searching sentinel data for Lago Patillas"
   ]
  },
  {
   "cell_type": "code",
   "execution_count": null,
   "metadata": {},
   "outputs": [],
   "source": [
    "import folium\n",
    "import getpass\n",
    "import json\n",
    "import glob\n",
    "\n",
    "import sentinelsat as sat\n",
    "from sentinelsat import SentinelAPI, make_path_filter"
   ]
  },
  {
   "cell_type": "markdown",
   "metadata": {},
   "source": [
    "I chose to visualize the area of interest with folium. The interactive map helps me to compare survey regions with what I get from sentinel. I had to transform the CRS of the bounding box centroid because folium uses ellipsoidal coordinates which are different from the northings/eastings values I have in my current projection."
   ]
  },
  {
   "cell_type": "code",
   "execution_count": null,
   "metadata": {},
   "outputs": [],
   "source": [
    "lat_long_centroid = bounding_box.centroid.to_crs(epsg=4326)\n",
    "x, y = lat_long_centroid.x, lat_long_centroid.y\n",
    "m = folium.Map([y, x], zoom_start=16)\n",
    "folium.GeoJson(bounding_box.to_crs(epsg=4326).to_json()).add_to(m)\n",
    "m"
   ]
  },
  {
   "cell_type": "markdown",
   "metadata": {},
   "source": [
    "The following cells are used to construct the Copernicus Sentinel API client and query the service requesting data with a footprint corresponding to Lago Patillas and a cloud cover percentage of 10% at max. As most of the swaths are over the ocean this percentage is unfortunately not entirely useful as even a little cloud cover is usually covering the land rather than the water."
   ]
  },
  {
   "cell_type": "code",
   "execution_count": null,
   "metadata": {},
   "outputs": [],
   "source": [
    "copernicus_user = getpass.getpass(\"Enter your Copernicus username: \")"
   ]
  },
  {
   "cell_type": "code",
   "execution_count": null,
   "metadata": {},
   "outputs": [],
   "source": [
    "copernicus_password = getpass.getpass(\"Enter your Copernicus password: \")"
   ]
  },
  {
   "cell_type": "code",
   "execution_count": null,
   "metadata": {},
   "outputs": [],
   "source": [
    "api = SentinelAPI(copernicus_user, copernicus_password, 'https://scihub.copernicus.eu/dhus')"
   ]
  },
  {
   "cell_type": "code",
   "execution_count": null,
   "metadata": {},
   "outputs": [],
   "source": [
    "footprint = sat.geojson_to_wkt(json.loads(bounding_box.to_crs(epsg=4326).to_json()))\n",
    "footprint"
   ]
  },
  {
   "cell_type": "code",
   "execution_count": null,
   "metadata": {},
   "outputs": [],
   "source": [
    "products = api.query(footprint,\n",
    "                     date = ('20210801', '20211104'),\n",
    "                     platformname = 'Sentinel-2',\n",
    "                     processinglevel = 'Level-2A',\n",
    "                     cloudcoverpercentage = (0, 10))"
   ]
  },
  {
   "cell_type": "markdown",
   "metadata": {},
   "source": [
    "The cells below look at all the products corresponding to the search criteria. They usually cover two areas at different times. Going back further than a couple of months in time would hit the long time archive which only becomes available after a couple of hours after being triggered."
   ]
  },
  {
   "cell_type": "code",
   "execution_count": null,
   "metadata": {},
   "outputs": [],
   "source": [
    "areas = api.to_geodataframe(products)\n",
    "areas.plot(column='uuid', cmap=None)"
   ]
  },
  {
   "cell_type": "code",
   "execution_count": null,
   "metadata": {},
   "outputs": [],
   "source": [
    "ax = areas.plot(column='uuid', cmap=None, figsize=(10, 10))\n",
    "areas.apply(lambda x: ax.annotate(text=x.uuid, xy=x.geometry.centroid.coords[0], ha='center'),axis=1)"
   ]
  },
  {
   "cell_type": "code",
   "execution_count": null,
   "metadata": {},
   "outputs": [],
   "source": [
    "_, ax = plt.subplots(1, figsize=(10, 10))\n",
    "areas.plot(ax=ax,column='uuid', cmap=None,)\n",
    "bounding_box.to_crs(epsg=4326).plot(ax=ax)\n",
    "plt.show()"
   ]
  },
  {
   "cell_type": "code",
   "execution_count": null,
   "metadata": {},
   "outputs": [],
   "source": [
    "areas.sort_values(by='cloudcoverpercentage', ascending=False)[[\"title\", \"link\", \"cloudcoverpercentage\"]]"
   ]
  },
  {
   "cell_type": "markdown",
   "metadata": {},
   "source": [
    "After the inspection of a couple of possible products I found one that shows Lago Patillas without being covered by clouds. I still have to find a better way to check for cloud cover over a very tiny area in the whole footprint of a sentinel data product."
   ]
  },
  {
   "cell_type": "code",
   "execution_count": null,
   "metadata": {},
   "outputs": [],
   "source": [
    "# min_cloudcover_id = areas[\"cloudcoverpercentage\"].idxmin() # we can extract the image with the minimum cloud cover like this\n",
    "min_cloudcover_id = \"8cf4ef49-479c-423a-96d1-d554519dac06\" # unfortunately most of the image is water and clouds are over land so we have to visually inspect\n",
    "nodefilter = make_path_filter(\"*_B0[2348]_10m.jp2\") # for now we only want the 10x10m resolution bands\n",
    "product_info = api.download(min_cloudcover_id, directory_path='../data/patillas_sample/sentinel/', nodefilter=nodefilter)\n",
    "product_info"
   ]
  },
  {
   "cell_type": "markdown",
   "metadata": {},
   "source": [
    "# Exploring, stacking, cropping and exporting sentinel data to a single geoTIFF"
   ]
  },
  {
   "cell_type": "markdown",
   "metadata": {},
   "source": [
    "In this part I take the acquired raw data and try to stack all bands to get one image and crop everything away that isn't part of the area of interest. In the end, only the area of interest should stay and be accessible in a single multi-band geoTIFF."
   ]
  },
  {
   "cell_type": "code",
   "execution_count": null,
   "metadata": {},
   "outputs": [],
   "source": [
    "r10m_base = r\"..\\data\\patillas_sample\\sentinel\\S2A_MSIL2A_20210924T150721_N0301_R082_T19QHV_20210924T192527.SAFE\\GRANULE\\L2A_T19QHV_A032683_20210924T150723\\IMG_DATA\\R10m\"\n",
    "r10m_globbing_pattern = f\"{r10m_base}/*.jp2\"\n",
    "stack_band_paths = glob.glob(r10m_globbing_pattern)\n",
    "stack_band_paths.sort()\n",
    "stack_band_paths"
   ]
  },
  {
   "cell_type": "code",
   "execution_count": null,
   "metadata": {},
   "outputs": [],
   "source": [
    "array, raster_prof = es.stack(stack_band_paths, out_path=r\"..\\data\\patillas_sample\\sentinel\\S2A_MSIL2A_20210924T150721_N0301_R082_T19QHV_20210924T192527.SAFE\\stacked\\raster.jp2\")\n",
    "raster_prof"
   ]
  },
  {
   "cell_type": "code",
   "execution_count": null,
   "metadata": {},
   "outputs": [],
   "source": [
    "extent = plotting_extent(array[0], raster_prof[\"transform\"])\n",
    "extent"
   ]
  },
  {
   "cell_type": "markdown",
   "metadata": {},
   "source": [
    "In the following plot we can see, that most of the satellite image shows the ocean. Fortunately it seems that our area of interest is cloud free."
   ]
  },
  {
   "cell_type": "code",
   "execution_count": null,
   "metadata": {},
   "outputs": [],
   "source": [
    "fig, ax = plt.subplots(figsize=(12, 12))\n",
    "ep.plot_rgb(\n",
    "    array,\n",
    "    rgb=[2, 1, 0],\n",
    "    ax=ax,\n",
    "    stretch=True,\n",
    "    extent=extent,\n",
    "    str_clip=0.5\n",
    ")\n",
    "plt.show()"
   ]
  },
  {
   "cell_type": "markdown",
   "metadata": {},
   "source": [
    "We are only really interested in the Lago Patillas. Because I we have the shape of the shore outline we know the exact extends and can use this as the crop bounds. We make sure to force the CRS of the crop bounds to be the same as of the satellite images to not run into errors."
   ]
  },
  {
   "cell_type": "code",
   "execution_count": null,
   "metadata": {},
   "outputs": [],
   "source": [
    "with rio.open(stack_band_paths[0]) as raster_crs:\n",
    "    crop_raster_profile = raster_crs.profile\n",
    "    crop_bound_projected = patillas_shoreline.to_crs(crop_raster_profile[\"crs\"])\n",
    "\n",
    "crop_bound_projected"
   ]
  },
  {
   "cell_type": "code",
   "execution_count": null,
   "metadata": {},
   "outputs": [],
   "source": [
    "crop_output_dir = r\"..\\data\\patillas_sample\\sentinel\\S2A_MSIL2A_20210924T150721_N0301_R082_T19QHV_20210924T192527.SAFE\\cropped\"\n",
    "\n",
    "band_paths_list = es.crop_all(\n",
    "    stack_band_paths, crop_output_dir, crop_bound_projected, overwrite=True\n",
    ")"
   ]
  },
  {
   "cell_type": "markdown",
   "metadata": {},
   "source": [
    "After cropping we can stack the cropped bands again and plot the stacked image with the overlayed outline."
   ]
  },
  {
   "cell_type": "code",
   "execution_count": null,
   "metadata": {},
   "outputs": [],
   "source": [
    "cropped_array, array_raster_profile = es.stack(band_paths_list)\n",
    "crop_extent = plotting_extent(\n",
    "    cropped_array[0], array_raster_profile[\"transform\"]\n",
    ")\n",
    "\n",
    "# Plotting the cropped image\n",
    "fig, ax = plt.subplots(figsize=(12, 6))\n",
    "crop_bound_projected.boundary.plot(ax=ax, color=\"red\", zorder=10)\n",
    "ep.plot_rgb(\n",
    "    cropped_array,\n",
    "    rgb=[2, 1, 0],\n",
    "    ax=ax,\n",
    "    stretch=True,\n",
    "    extent=crop_extent\n",
    ")\n",
    "plt.show()"
   ]
  },
  {
   "cell_type": "markdown",
   "metadata": {},
   "source": [
    "If we're happy at this point we can export the data."
   ]
  },
  {
   "cell_type": "code",
   "execution_count": null,
   "metadata": {},
   "outputs": [],
   "source": [
    "with rio.open(\"../data/patillas_sample/raster/patillas_sentinel_l2a_r10m.tif\", \"w\", **array_raster_profile) as dst:\n",
    "    dst.write(cropped_array)"
   ]
  }
 ],
 "metadata": {
  "interpreter": {
   "hash": "87a6a3d49096a9b6e6b681b59f2e96a8b3d0b5eb8b687b97775e2c1a70eeb327"
  },
  "kernelspec": {
   "display_name": "sdb",
   "language": "python",
   "name": "sdb"
  },
  "language_info": {
   "codemirror_mode": {
    "name": "ipython",
    "version": 3
   },
   "file_extension": ".py",
   "mimetype": "text/x-python",
   "name": "python",
   "nbconvert_exporter": "python",
   "pygments_lexer": "ipython3",
   "version": "3.9.7"
  }
 },
 "nbformat": 4,
 "nbformat_minor": 2
}
